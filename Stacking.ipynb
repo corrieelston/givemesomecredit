{
 "cells": [
  {
   "cell_type": "code",
   "execution_count": 140,
   "metadata": {
    "collapsed": true
   },
   "outputs": [],
   "source": [
    "import time\n",
    "import pandas as pd\n",
    "import numpy as np\n",
    "import matplotlib.pyplot as plt\n",
    "import seaborn as sns\n",
    "\n",
    "from sklearn.cross_validation import train_test_split\n",
    "from sklearn.metrics import roc_auc_score\n",
    "from sklearn.externals import joblib\n",
    "from sklearn import cross_validation\n",
    "from sklearn import grid_search\n",
    "\n",
    "from sklearn import linear_model\n",
    "from sklearn import ensemble"
   ]
  },
  {
   "cell_type": "code",
   "execution_count": 141,
   "metadata": {
    "collapsed": true
   },
   "outputs": [],
   "source": [
    "timestamp = time.strftime(\"%Y-%m-%d-%H-%M-%S\")\n",
    "model_name = 'stack_gb'"
   ]
  },
  {
   "cell_type": "code",
   "execution_count": 142,
   "metadata": {
    "collapsed": true
   },
   "outputs": [],
   "source": [
    "training_features = pd.read_csv('data/training_features.csv')\n",
    "test_features = pd.read_csv('data/test_features.csv')"
   ]
  },
  {
   "cell_type": "code",
   "execution_count": 143,
   "metadata": {
    "collapsed": false
   },
   "outputs": [],
   "source": [
    "X_train = training_features.ix[:,2:]\n",
    "y_train = training_features.SeriousDlqin2yrs\n",
    "\n",
    "#X_train_full, X_test_full, y_train_full, y_test_full = train_test_split(X_full, y_full, test_size=0.2, stratify=y_full, random_state=42)"
   ]
  },
  {
   "cell_type": "code",
   "execution_count": 144,
   "metadata": {
    "collapsed": true
   },
   "outputs": [],
   "source": [
    "X_test = test_features.ix[:,2:]\n",
    "y_test = test_features.SeriousDlqin2yrs"
   ]
  },
  {
   "cell_type": "code",
   "execution_count": 145,
   "metadata": {
    "collapsed": false
   },
   "outputs": [],
   "source": [
    "'''\n",
    "submission-rfc-tuned-2017-01-07-22-54-35.csv\n",
    "submission-gb-tuned-2017-01-08-00-18-20.csv\n",
    "submission-ada-tuned-2017-01-08-16-05-11.csv\n",
    "submission-vote-ensemble-2017-01-08-16-11-39.csv\n",
    "'''\n",
    "\n",
    "rfc_mdl = joblib.load('models/rfc-tuned-2017-01-07-22-54-35.pkl')\n",
    "gb_mdl = joblib.load('models/gb-tuned-2017-01-08-00-18-20.pkl')\n",
    "ada_mdl = joblib.load('models/ada-tuned-2017-01-08-16-05-11.pkl')\n",
    "ens_mdl = joblib.load('models/vote-ensemble-2017-01-08-16-11-39.pkl')"
   ]
  },
  {
   "cell_type": "code",
   "execution_count": 146,
   "metadata": {
    "collapsed": false
   },
   "outputs": [
    {
     "name": "stderr",
     "output_type": "stream",
     "text": [
      "[Parallel(n_jobs=16)]: Done  18 tasks      | elapsed:    0.1s\n",
      "[Parallel(n_jobs=16)]: Done 168 tasks      | elapsed:    0.7s\n",
      "[Parallel(n_jobs=16)]: Done 418 tasks      | elapsed:    1.8s\n",
      "[Parallel(n_jobs=16)]: Done 768 tasks      | elapsed:    3.3s\n",
      "[Parallel(n_jobs=16)]: Done 1218 tasks      | elapsed:    5.2s\n",
      "[Parallel(n_jobs=16)]: Done 1768 tasks      | elapsed:    7.5s\n",
      "[Parallel(n_jobs=16)]: Done 2418 tasks      | elapsed:   10.3s\n",
      "[Parallel(n_jobs=16)]: Done 3168 tasks      | elapsed:   13.4s\n",
      "[Parallel(n_jobs=16)]: Done 4018 tasks      | elapsed:   16.9s\n",
      "[Parallel(n_jobs=16)]: Done 4968 tasks      | elapsed:   20.9s\n",
      "[Parallel(n_jobs=16)]: Done 5000 out of 5000 | elapsed:   21.0s finished\n",
      "[Parallel(n_jobs=16)]: Done  18 tasks      | elapsed:    0.1s\n",
      "[Parallel(n_jobs=16)]: Done 168 tasks      | elapsed:    0.8s\n",
      "[Parallel(n_jobs=16)]: Done 418 tasks      | elapsed:    1.8s\n",
      "[Parallel(n_jobs=16)]: Done 768 tasks      | elapsed:    3.2s\n",
      "[Parallel(n_jobs=16)]: Done 1218 tasks      | elapsed:    5.1s\n",
      "[Parallel(n_jobs=16)]: Done 1768 tasks      | elapsed:    7.5s\n",
      "[Parallel(n_jobs=16)]: Done 2418 tasks      | elapsed:   10.2s\n",
      "[Parallel(n_jobs=16)]: Done 3168 tasks      | elapsed:   13.3s\n",
      "[Parallel(n_jobs=16)]: Done 4018 tasks      | elapsed:   16.8s\n",
      "[Parallel(n_jobs=16)]: Done 4968 tasks      | elapsed:   20.7s\n",
      "[Parallel(n_jobs=16)]: Done 5000 out of 5000 | elapsed:   20.8s finished\n"
     ]
    }
   ],
   "source": [
    "rfc_train_pred = rfc_mdl.predict(X_train)\n",
    "gb_train_pred = gb_mdl.predict(X_train)\n",
    "ada_train_pred = ada_mdl.predict(X_train) \n",
    "ens_train_pred = ens_mdl.predict(X_train) \n",
    "\n",
    "rfc_train_pred_proba = rfc_mdl.predict_proba(X_train)\n",
    "gb_train_pred_proba = gb_mdl.predict_proba(X_train)\n",
    "ada_train_pred_proba = ada_mdl.predict_proba(X_train)\n",
    "ens_train_pred_proba = ens_mdl.predict_proba(X_train)"
   ]
  },
  {
   "cell_type": "code",
   "execution_count": 147,
   "metadata": {
    "collapsed": false
   },
   "outputs": [
    {
     "name": "stderr",
     "output_type": "stream",
     "text": [
      "[Parallel(n_jobs=16)]: Done  18 tasks      | elapsed:    0.1s\n",
      "[Parallel(n_jobs=16)]: Done 168 tasks      | elapsed:    0.6s\n",
      "[Parallel(n_jobs=16)]: Done 418 tasks      | elapsed:    1.3s\n",
      "[Parallel(n_jobs=16)]: Done 768 tasks      | elapsed:    2.4s\n",
      "[Parallel(n_jobs=16)]: Done 1218 tasks      | elapsed:    3.7s\n",
      "[Parallel(n_jobs=16)]: Done 1768 tasks      | elapsed:    5.4s\n",
      "[Parallel(n_jobs=16)]: Done 2418 tasks      | elapsed:    7.4s\n",
      "[Parallel(n_jobs=16)]: Done 3168 tasks      | elapsed:    9.7s\n",
      "[Parallel(n_jobs=16)]: Done 4018 tasks      | elapsed:   12.2s\n",
      "[Parallel(n_jobs=16)]: Done 4968 tasks      | elapsed:   15.1s\n",
      "[Parallel(n_jobs=16)]: Done 5000 out of 5000 | elapsed:   15.3s finished\n",
      "[Parallel(n_jobs=16)]: Done  18 tasks      | elapsed:    0.1s\n",
      "[Parallel(n_jobs=16)]: Done 168 tasks      | elapsed:    0.6s\n",
      "[Parallel(n_jobs=16)]: Done 418 tasks      | elapsed:    1.3s\n",
      "[Parallel(n_jobs=16)]: Done 768 tasks      | elapsed:    2.4s\n",
      "[Parallel(n_jobs=16)]: Done 1218 tasks      | elapsed:    3.7s\n",
      "[Parallel(n_jobs=16)]: Done 1768 tasks      | elapsed:    5.4s\n",
      "[Parallel(n_jobs=16)]: Done 2418 tasks      | elapsed:    7.4s\n",
      "[Parallel(n_jobs=16)]: Done 3168 tasks      | elapsed:    9.7s\n",
      "[Parallel(n_jobs=16)]: Done 4018 tasks      | elapsed:   12.2s\n",
      "[Parallel(n_jobs=16)]: Done 4968 tasks      | elapsed:   15.1s\n",
      "[Parallel(n_jobs=16)]: Done 5000 out of 5000 | elapsed:   15.2s finished\n"
     ]
    }
   ],
   "source": [
    "rfc_test_pred = rfc_mdl.predict(X_test)\n",
    "gb_test_pred = gb_mdl.predict(X_test)\n",
    "ada_test_pred = ada_mdl.predict(X_test) \n",
    "ens_test_pred = ens_mdl.predict(X_test) \n",
    "\n",
    "rfc_test_pred_proba = rfc_mdl.predict_proba(X_test)\n",
    "gb_test_pred_proba = gb_mdl.predict_proba(X_test)\n",
    "ada_test_pred_proba = ada_mdl.predict_proba(X_test)\n",
    "ens_test_pred_proba = ens_mdl.predict_proba(X_test)"
   ]
  },
  {
   "cell_type": "code",
   "execution_count": 148,
   "metadata": {
    "collapsed": false
   },
   "outputs": [
    {
     "data": {
      "text/html": [
       "<div>\n",
       "<table border=\"1\" class=\"dataframe\">\n",
       "  <thead>\n",
       "    <tr style=\"text-align: right;\">\n",
       "      <th></th>\n",
       "      <th>rfc_0</th>\n",
       "      <th>rfc_1</th>\n",
       "      <th>gb_0</th>\n",
       "      <th>gb_1</th>\n",
       "      <th>ada_0</th>\n",
       "      <th>ada_1</th>\n",
       "      <th>ens_0</th>\n",
       "      <th>ens_1</th>\n",
       "    </tr>\n",
       "  </thead>\n",
       "  <tbody>\n",
       "    <tr>\n",
       "      <th>0</th>\n",
       "      <td>0.5980</td>\n",
       "      <td>0.4020</td>\n",
       "      <td>0.620199</td>\n",
       "      <td>0.379801</td>\n",
       "      <td>0.500112</td>\n",
       "      <td>0.499888</td>\n",
       "      <td>0.599872</td>\n",
       "      <td>0.400128</td>\n",
       "    </tr>\n",
       "    <tr>\n",
       "      <th>1</th>\n",
       "      <td>0.9716</td>\n",
       "      <td>0.0284</td>\n",
       "      <td>0.932363</td>\n",
       "      <td>0.067637</td>\n",
       "      <td>0.506503</td>\n",
       "      <td>0.493497</td>\n",
       "      <td>0.877131</td>\n",
       "      <td>0.122869</td>\n",
       "    </tr>\n",
       "    <tr>\n",
       "      <th>2</th>\n",
       "      <td>0.9304</td>\n",
       "      <td>0.0696</td>\n",
       "      <td>0.648939</td>\n",
       "      <td>0.351061</td>\n",
       "      <td>0.501832</td>\n",
       "      <td>0.498168</td>\n",
       "      <td>0.668132</td>\n",
       "      <td>0.331868</td>\n",
       "    </tr>\n",
       "    <tr>\n",
       "      <th>3</th>\n",
       "      <td>0.9964</td>\n",
       "      <td>0.0036</td>\n",
       "      <td>0.976785</td>\n",
       "      <td>0.023215</td>\n",
       "      <td>0.509138</td>\n",
       "      <td>0.490862</td>\n",
       "      <td>0.912780</td>\n",
       "      <td>0.087220</td>\n",
       "    </tr>\n",
       "    <tr>\n",
       "      <th>4</th>\n",
       "      <td>0.9030</td>\n",
       "      <td>0.0970</td>\n",
       "      <td>0.901542</td>\n",
       "      <td>0.098458</td>\n",
       "      <td>0.506518</td>\n",
       "      <td>0.493482</td>\n",
       "      <td>0.845318</td>\n",
       "      <td>0.154682</td>\n",
       "    </tr>\n",
       "  </tbody>\n",
       "</table>\n",
       "</div>"
      ],
      "text/plain": [
       "    rfc_0   rfc_1      gb_0      gb_1     ada_0     ada_1     ens_0     ens_1\n",
       "0  0.5980  0.4020  0.620199  0.379801  0.500112  0.499888  0.599872  0.400128\n",
       "1  0.9716  0.0284  0.932363  0.067637  0.506503  0.493497  0.877131  0.122869\n",
       "2  0.9304  0.0696  0.648939  0.351061  0.501832  0.498168  0.668132  0.331868\n",
       "3  0.9964  0.0036  0.976785  0.023215  0.509138  0.490862  0.912780  0.087220\n",
       "4  0.9030  0.0970  0.901542  0.098458  0.506518  0.493482  0.845318  0.154682"
      ]
     },
     "execution_count": 148,
     "metadata": {},
     "output_type": "execute_result"
    }
   ],
   "source": [
    "y_train_stack = y_train\n",
    "\n",
    "'''X_train_stack = pd.DataFrame(\n",
    "  np.hstack([rfc_train_pred.reshape(-1, 1), gb_train_pred.reshape(-1, 1), ada_train_pred.reshape(-1, 1), ens_train_pred.reshape(-1, 1), \n",
    "             rfc_train_pred_proba, gb_train_pred_proba, ada_train_pred_proba, ens_train_pred_proba]), \n",
    "  columns=['rfc', 'gb', 'ada', 'ens', 'rfc_0', 'rfc_1', 'gb_0', 'gb_1', 'ada_0', 'ada_1', 'ens_0', 'ens_1'])\n",
    "X_train_stack.head()'''\n",
    "\n",
    "X_train_stack = pd.DataFrame(\n",
    "  np.hstack([rfc_train_pred_proba, gb_train_pred_proba, ada_train_pred_proba, ens_train_pred_proba]), \n",
    "  columns=['rfc_0', 'rfc_1', 'gb_0', 'gb_1', 'ada_0', 'ada_1', 'ens_0', 'ens_1'])\n",
    "X_train_stack.head()"
   ]
  },
  {
   "cell_type": "code",
   "execution_count": 149,
   "metadata": {
    "collapsed": false
   },
   "outputs": [
    {
     "data": {
      "text/html": [
       "<div>\n",
       "<table border=\"1\" class=\"dataframe\">\n",
       "  <thead>\n",
       "    <tr style=\"text-align: right;\">\n",
       "      <th></th>\n",
       "      <th>rfc_0</th>\n",
       "      <th>rfc_1</th>\n",
       "      <th>gb_0</th>\n",
       "      <th>gb_1</th>\n",
       "      <th>ada_0</th>\n",
       "      <th>ada_1</th>\n",
       "      <th>ens_0</th>\n",
       "      <th>ens_1</th>\n",
       "    </tr>\n",
       "  </thead>\n",
       "  <tbody>\n",
       "    <tr>\n",
       "      <th>0</th>\n",
       "      <td>0.9838</td>\n",
       "      <td>0.0162</td>\n",
       "      <td>0.944072</td>\n",
       "      <td>0.055928</td>\n",
       "      <td>0.507468</td>\n",
       "      <td>0.492532</td>\n",
       "      <td>0.887375</td>\n",
       "      <td>0.112625</td>\n",
       "    </tr>\n",
       "    <tr>\n",
       "      <th>1</th>\n",
       "      <td>0.9414</td>\n",
       "      <td>0.0586</td>\n",
       "      <td>0.956867</td>\n",
       "      <td>0.043133</td>\n",
       "      <td>0.506770</td>\n",
       "      <td>0.493230</td>\n",
       "      <td>0.890358</td>\n",
       "      <td>0.109642</td>\n",
       "    </tr>\n",
       "    <tr>\n",
       "      <th>2</th>\n",
       "      <td>0.9782</td>\n",
       "      <td>0.0218</td>\n",
       "      <td>0.986240</td>\n",
       "      <td>0.013760</td>\n",
       "      <td>0.511088</td>\n",
       "      <td>0.488912</td>\n",
       "      <td>0.917212</td>\n",
       "      <td>0.082788</td>\n",
       "    </tr>\n",
       "    <tr>\n",
       "      <th>3</th>\n",
       "      <td>0.8850</td>\n",
       "      <td>0.1150</td>\n",
       "      <td>0.933952</td>\n",
       "      <td>0.066048</td>\n",
       "      <td>0.506121</td>\n",
       "      <td>0.493879</td>\n",
       "      <td>0.865840</td>\n",
       "      <td>0.134160</td>\n",
       "    </tr>\n",
       "    <tr>\n",
       "      <th>4</th>\n",
       "      <td>0.7950</td>\n",
       "      <td>0.2050</td>\n",
       "      <td>0.928321</td>\n",
       "      <td>0.071679</td>\n",
       "      <td>0.506962</td>\n",
       "      <td>0.493038</td>\n",
       "      <td>0.849081</td>\n",
       "      <td>0.150919</td>\n",
       "    </tr>\n",
       "  </tbody>\n",
       "</table>\n",
       "</div>"
      ],
      "text/plain": [
       "    rfc_0   rfc_1      gb_0      gb_1     ada_0     ada_1     ens_0     ens_1\n",
       "0  0.9838  0.0162  0.944072  0.055928  0.507468  0.492532  0.887375  0.112625\n",
       "1  0.9414  0.0586  0.956867  0.043133  0.506770  0.493230  0.890358  0.109642\n",
       "2  0.9782  0.0218  0.986240  0.013760  0.511088  0.488912  0.917212  0.082788\n",
       "3  0.8850  0.1150  0.933952  0.066048  0.506121  0.493879  0.865840  0.134160\n",
       "4  0.7950  0.2050  0.928321  0.071679  0.506962  0.493038  0.849081  0.150919"
      ]
     },
     "execution_count": 149,
     "metadata": {},
     "output_type": "execute_result"
    }
   ],
   "source": [
    "y_test_stack = y_test\n",
    "\n",
    "'''X_test_stack = pd.DataFrame(\n",
    "  np.hstack([rfc_test_pred.reshape(-1, 1), gb_test_pred.reshape(-1, 1), ada_test_pred.reshape(-1, 1), ens_test_pred.reshape(-1, 1), \n",
    "             rfc_test_pred_proba, gb_test_pred_proba, ada_test_pred_proba, ens_test_pred_proba]), \n",
    "  columns=['rfc', 'gb', 'ada', 'ens', 'rfc_0', 'rfc_1', 'gb_0', 'gb_1', 'ada_0', 'ada_1', 'ens_0', 'ens_1'])\n",
    "X_test_stack.head()'''\n",
    "\n",
    "X_test_stack = pd.DataFrame(\n",
    "  np.hstack([rfc_test_pred_proba, gb_test_pred_proba, ada_test_pred_proba, ens_test_pred_proba]), \n",
    "  columns=['rfc_0', 'rfc_1', 'gb_0', 'gb_1', 'ada_0', 'ada_1', 'ens_0', 'ens_1'])\n",
    "X_test_stack.head()"
   ]
  },
  {
   "cell_type": "code",
   "execution_count": 150,
   "metadata": {
    "collapsed": false
   },
   "outputs": [
    {
     "name": "stdout",
     "output_type": "stream",
     "text": [
      "      Iter       Train Loss   Remaining Time \n",
      "         1           0.3377           39.79s\n",
      "         2           0.2942           39.28s\n",
      "         3           0.2633           39.78s\n",
      "         4           0.2393           39.51s\n",
      "         5           0.2199           38.97s\n",
      "         6           0.2036           38.76s\n",
      "         7           0.1899           38.80s\n",
      "         8           0.1781           38.87s\n",
      "         9           0.1680           39.28s\n",
      "        10           0.1591           39.44s\n",
      "        20           0.1127           37.65s\n",
      "        30           0.0987           37.59s\n",
      "        40           0.0934           36.80s\n",
      "        50           0.0911           35.44s\n",
      "        60           0.0897           33.47s\n",
      "        70           0.0890           31.75s\n",
      "        80           0.0887           29.83s\n",
      "        90           0.0882           28.04s\n",
      "       100           0.0878           26.10s\n",
      "       200           0.0844            8.35s\n"
     ]
    },
    {
     "data": {
      "text/plain": [
       "GradientBoostingClassifier(init=None, learning_rate=0.1, loss='deviance',\n",
       "              max_depth=3, max_features=None, max_leaf_nodes=None,\n",
       "              min_samples_leaf=1, min_samples_split=2,\n",
       "              min_weight_fraction_leaf=0.0, n_estimators=250,\n",
       "              presort='auto', random_state=42, subsample=1.0, verbose=True,\n",
       "              warm_start=False)"
      ]
     },
     "execution_count": 150,
     "metadata": {},
     "output_type": "execute_result"
    }
   ],
   "source": [
    "'''clf = joblib.load('models/rfc-2017-01-07-20-54-40.pkl')'''\n",
    "\n",
    "clf = ensemble.GradientBoostingClassifier(n_estimators=250, verbose=True, random_state=42)\n",
    "clf.fit(X_train_stack, y_train_stack)"
   ]
  },
  {
   "cell_type": "code",
   "execution_count": 151,
   "metadata": {
    "collapsed": false
   },
   "outputs": [
    {
     "name": "stdout",
     "output_type": "stream",
     "text": [
      "models/stack_gb-2017-01-08-20-10-57.pkl\n"
     ]
    }
   ],
   "source": [
    "flename = 'models/%s-%s.pkl' % (model_name, timestamp)\n",
    "\n",
    "joblib.dump(clf, flename)\n",
    "\n",
    "log = '%s,%s\\n' % (flename, clf)\n",
    "\n",
    "fle = open('model_log.csv', 'a')\n",
    "fle.write(log)\n",
    "fle.flush()\n",
    "fle.close()\n",
    "\n",
    "print flename"
   ]
  },
  {
   "cell_type": "code",
   "execution_count": 152,
   "metadata": {
    "collapsed": false
   },
   "outputs": [],
   "source": [
    "X_submission = X_test_stack\n",
    "y_submission = clf.predict_proba(X_submission.astype(np.float32))"
   ]
  },
  {
   "cell_type": "code",
   "execution_count": 153,
   "metadata": {
    "collapsed": false
   },
   "outputs": [
    {
     "data": {
      "text/html": [
       "<div>\n",
       "<table border=\"1\" class=\"dataframe\">\n",
       "  <thead>\n",
       "    <tr style=\"text-align: right;\">\n",
       "      <th></th>\n",
       "      <th>Id</th>\n",
       "      <th>Probability</th>\n",
       "    </tr>\n",
       "  </thead>\n",
       "  <tbody>\n",
       "    <tr>\n",
       "      <th>0</th>\n",
       "      <td>1</td>\n",
       "      <td>0.002858</td>\n",
       "    </tr>\n",
       "    <tr>\n",
       "      <th>1</th>\n",
       "      <td>2</td>\n",
       "      <td>0.027574</td>\n",
       "    </tr>\n",
       "    <tr>\n",
       "      <th>2</th>\n",
       "      <td>3</td>\n",
       "      <td>0.004759</td>\n",
       "    </tr>\n",
       "    <tr>\n",
       "      <th>3</th>\n",
       "      <td>4</td>\n",
       "      <td>0.047550</td>\n",
       "    </tr>\n",
       "    <tr>\n",
       "      <th>4</th>\n",
       "      <td>5</td>\n",
       "      <td>0.128248</td>\n",
       "    </tr>\n",
       "  </tbody>\n",
       "</table>\n",
       "</div>"
      ],
      "text/plain": [
       "   Id  Probability\n",
       "0   1     0.002858\n",
       "1   2     0.027574\n",
       "2   3     0.004759\n",
       "3   4     0.047550\n",
       "4   5     0.128248"
      ]
     },
     "execution_count": 153,
     "metadata": {},
     "output_type": "execute_result"
    }
   ],
   "source": [
    "submission = pd.DataFrame()\n",
    "submission['Id'] = test_features.ID.astype(np.int)\n",
    "submission['Probability'] = y_submission[:,1]\n",
    "submission.head()"
   ]
  },
  {
   "cell_type": "code",
   "execution_count": 154,
   "metadata": {
    "collapsed": false
   },
   "outputs": [
    {
     "name": "stdout",
     "output_type": "stream",
     "text": [
      "submissions/submission-stack_gb-2017-01-08-20-10-57.csv\n"
     ]
    }
   ],
   "source": [
    "flename = 'submissions/submission-%s-%s.csv' % (model_name, timestamp)\n",
    "submission.to_csv(flename, index=False)\n",
    "print flename"
   ]
  }
 ],
 "metadata": {
  "kernelspec": {
   "display_name": "Python 2",
   "language": "python",
   "name": "python2"
  },
  "language_info": {
   "codemirror_mode": {
    "name": "ipython",
    "version": 2
   },
   "file_extension": ".py",
   "mimetype": "text/x-python",
   "name": "python",
   "nbconvert_exporter": "python",
   "pygments_lexer": "ipython2",
   "version": "2.7.9"
  }
 },
 "nbformat": 4,
 "nbformat_minor": 1
}
