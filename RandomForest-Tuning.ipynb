{
 "cells": [
  {
   "cell_type": "code",
   "execution_count": 1,
   "metadata": {
    "collapsed": true
   },
   "outputs": [],
   "source": [
    "import time\n",
    "import pandas as pd\n",
    "import numpy as np\n",
    "import matplotlib.pyplot as plt\n",
    "import seaborn as sns\n",
    "\n",
    "from sklearn.cross_validation import train_test_split\n",
    "from sklearn.metrics import roc_auc_score\n",
    "from sklearn.externals import joblib\n",
    "from sklearn import cross_validation\n",
    "from sklearn import grid_search\n",
    "\n",
    "from sklearn import ensemble"
   ]
  },
  {
   "cell_type": "code",
   "execution_count": 2,
   "metadata": {
    "collapsed": true
   },
   "outputs": [],
   "source": [
    "timestamp = time.strftime(\"%Y-%m-%d-%H-%M-%S\")\n",
    "model_name = 'rfc-tuned'"
   ]
  },
  {
   "cell_type": "code",
   "execution_count": 3,
   "metadata": {
    "collapsed": false
   },
   "outputs": [],
   "source": [
    "training_features = pd.read_csv('data/training_features.csv')\n",
    "test_features = pd.read_csv('data/test_features.csv')"
   ]
  },
  {
   "cell_type": "code",
   "execution_count": null,
   "metadata": {
    "collapsed": false
   },
   "outputs": [],
   "source": [
    "X_full = training_features.ix[:,2:]\n",
    "y_full = training_features.SeriousDlqin2yrs\n",
    "\n",
    "X_train_full, X_test_full, y_train_full, y_test_full = train_test_split(X_full, y_full, test_size=0.2, stratify=y_full, random_state=42)"
   ]
  },
  {
   "cell_type": "code",
   "execution_count": null,
   "metadata": {
    "collapsed": false
   },
   "outputs": [
    {
     "name": "stdout",
     "output_type": "stream",
     "text": [
      "Fitting 5 folds for each of 5 candidates, totalling 25 fits\n",
      "[CV] n_estimators=1000 ...............................................\n",
      "[CV] ...................... n_estimators=1000, score=0.858641 -  32.6s\n",
      "[CV] n_estimators=1000 ...............................................\n"
     ]
    },
    {
     "name": "stderr",
     "output_type": "stream",
     "text": [
      "[Parallel(n_jobs=1)]: Done   1 tasks       | elapsed:   32.6s\n"
     ]
    },
    {
     "name": "stdout",
     "output_type": "stream",
     "text": [
      "[CV] ...................... n_estimators=1000, score=0.847258 -  33.7s\n",
      "[CV] n_estimators=1000 ...............................................\n",
      "[CV] ...................... n_estimators=1000, score=0.839012 -  34.1s\n",
      "[CV] n_estimators=1000 ...............................................\n",
      "[CV] ...................... n_estimators=1000, score=0.842395 -  34.1s\n",
      "[CV] n_estimators=1000 ...............................................\n"
     ]
    },
    {
     "name": "stderr",
     "output_type": "stream",
     "text": [
      "[Parallel(n_jobs=1)]: Done   4 tasks       | elapsed:  2.2min\n"
     ]
    },
    {
     "name": "stdout",
     "output_type": "stream",
     "text": [
      "[CV] ...................... n_estimators=1000, score=0.848850 -  33.2s\n",
      "[CV] n_estimators=1500 ...............................................\n",
      "[CV] ...................... n_estimators=1500, score=0.858436 -  49.7s\n",
      "[CV] n_estimators=1500 ...............................................\n",
      "[CV] ...................... n_estimators=1500, score=0.848059 -  49.5s\n",
      "[CV] n_estimators=1500 ...............................................\n"
     ]
    },
    {
     "name": "stderr",
     "output_type": "stream",
     "text": [
      "[Parallel(n_jobs=1)]: Done   7 tasks       | elapsed:  4.5min\n"
     ]
    },
    {
     "name": "stdout",
     "output_type": "stream",
     "text": [
      "[CV] ...................... n_estimators=1500, score=0.839291 -  49.9s\n",
      "[CV] n_estimators=1500 ...............................................\n",
      "[CV] ...................... n_estimators=1500, score=0.842785 -  50.5s\n",
      "[CV] n_estimators=1500 ...............................................\n",
      "[CV] ...................... n_estimators=1500, score=0.848748 -  49.5s\n",
      "[CV] n_estimators=2000 ...............................................\n",
      "[CV] ...................... n_estimators=2000, score=0.858448 - 1.1min\n",
      "[CV] n_estimators=2000 ...............................................\n",
      "[CV] ...................... n_estimators=2000, score=0.848046 - 1.1min\n",
      "[CV] n_estimators=2000 ...............................................\n"
     ]
    },
    {
     "name": "stderr",
     "output_type": "stream",
     "text": [
      "[Parallel(n_jobs=1)]: Done  12 tasks       | elapsed:  9.2min\n"
     ]
    },
    {
     "name": "stdout",
     "output_type": "stream",
     "text": [
      "[CV] ...................... n_estimators=2000, score=0.839590 - 1.1min\n",
      "[CV] n_estimators=2000 ...............................................\n",
      "[CV] ...................... n_estimators=2000, score=0.842775 - 1.1min\n",
      "[CV] n_estimators=2000 ...............................................\n",
      "[CV] ...................... n_estimators=2000, score=0.848597 - 1.1min\n",
      "[CV] n_estimators=3000 ...............................................\n",
      "[CV] ...................... n_estimators=3000, score=0.858547 - 1.7min\n",
      "[CV] n_estimators=3000 ...............................................\n",
      "[CV] ...................... n_estimators=3000, score=0.848290 - 1.7min\n",
      "[CV] n_estimators=3000 ...............................................\n"
     ]
    },
    {
     "name": "stderr",
     "output_type": "stream",
     "text": [
      "[Parallel(n_jobs=1)]: Done  17 tasks       | elapsed: 15.9min\n"
     ]
    },
    {
     "name": "stdout",
     "output_type": "stream",
     "text": [
      "[CV] ...................... n_estimators=3000, score=0.839641 - 1.7min\n",
      "[CV] n_estimators=3000 ...............................................\n",
      "[CV] ...................... n_estimators=3000, score=0.843121 - 1.7min\n",
      "[CV] n_estimators=3000 ...............................................\n",
      "[CV] ...................... n_estimators=3000, score=0.849178 - 1.7min\n",
      "[CV] n_estimators=5000 ...............................................\n",
      "[CV] ...................... n_estimators=5000, score=0.858654 - 2.8min\n",
      "[CV] n_estimators=5000 ...............................................\n",
      "[CV] ...................... n_estimators=5000, score=0.848248 - 2.8min\n",
      "[CV] n_estimators=5000 ...............................................\n",
      "[CV] ...................... n_estimators=5000, score=0.839823 - 2.8min\n",
      "[CV] n_estimators=5000 ...............................................\n",
      "[CV] ...................... n_estimators=5000, score=0.843528 - 2.8min\n",
      "[CV] n_estimators=5000 ...............................................\n"
     ]
    },
    {
     "name": "stderr",
     "output_type": "stream",
     "text": [
      "[Parallel(n_jobs=1)]: Done  24 tasks       | elapsed: 32.2min\n"
     ]
    }
   ],
   "source": [
    "'''clf = joblib.load('models/rfc-2017-01-07-20-54-40.pkl')'''\n",
    "\n",
    "clf = ensemble.RandomForestClassifier(n_jobs=-1, random_state=42)\n",
    "\n",
    "#tuned_parameters = [{'n_estimators': [10, 25, 50, 100, 250, 500, 1000]}]\n",
    "tuned_parameters = [{'n_estimators': [1000, 1500, 2000, 3000, 5000]}]\n",
    "\n",
    "clf = grid_search.GridSearchCV(clf, tuned_parameters, cv=5, scoring='roc_auc', verbose=10)\n",
    "clf.fit(X_train_full, y_train_full)"
   ]
  },
  {
   "cell_type": "code",
   "execution_count": null,
   "metadata": {
    "collapsed": false
   },
   "outputs": [],
   "source": [
    "clf.best_params_"
   ]
  },
  {
   "cell_type": "code",
   "execution_count": null,
   "metadata": {
    "collapsed": false
   },
   "outputs": [],
   "source": [
    "'''flename = 'models/%s-%s.pkl' % (model_name, timestamp)\n",
    "\n",
    "joblib.dump(rfc, flename)\n",
    "\n",
    "log = '%s,%s\\n' % (flename, rfc)\n",
    "\n",
    "fle = open('model_log.csv', 'a')\n",
    "fle.write(log)\n",
    "fle.flush()\n",
    "fle.close()\n",
    "\n",
    "print flename'''"
   ]
  },
  {
   "cell_type": "code",
   "execution_count": null,
   "metadata": {
    "collapsed": false
   },
   "outputs": [],
   "source": [
    "X_submission = test_features.ix[:,2:]\n",
    "y_submission = clf.predict_proba(X_submission.astype(np.float32))"
   ]
  },
  {
   "cell_type": "code",
   "execution_count": null,
   "metadata": {
    "collapsed": false
   },
   "outputs": [],
   "source": [
    "submission = pd.DataFrame()\n",
    "submission['Id'] = test_features.ID.astype(np.int)\n",
    "submission['Probability'] = y_submission[:,1]\n",
    "submission.head()"
   ]
  },
  {
   "cell_type": "code",
   "execution_count": null,
   "metadata": {
    "collapsed": true
   },
   "outputs": [],
   "source": [
    "flename = 'submissions/submission-%s-%s.csv' % (model_name, timestamp)\n",
    "submission.to_csv(flename, index=False)\n",
    "print flename"
   ]
  }
 ],
 "metadata": {
  "kernelspec": {
   "display_name": "Python 2",
   "language": "python",
   "name": "python2"
  },
  "language_info": {
   "codemirror_mode": {
    "name": "ipython",
    "version": 2
   },
   "file_extension": ".py",
   "mimetype": "text/x-python",
   "name": "python",
   "nbconvert_exporter": "python",
   "pygments_lexer": "ipython2",
   "version": "2.7.9"
  }
 },
 "nbformat": 4,
 "nbformat_minor": 1
}
