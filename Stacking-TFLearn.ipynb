{
 "cells": [
  {
   "cell_type": "code",
   "execution_count": 1,
   "metadata": {
    "collapsed": true
   },
   "outputs": [],
   "source": [
    "import time\n",
    "import pandas as pd\n",
    "import numpy as np\n",
    "import matplotlib.pyplot as plt\n",
    "import seaborn as sns\n",
    "\n",
    "from sklearn.cross_validation import train_test_split\n",
    "from sklearn.metrics import roc_auc_score\n",
    "from sklearn.externals import joblib\n",
    "from sklearn import cross_validation\n",
    "from sklearn import grid_search\n",
    "\n",
    "from sklearn import linear_model\n",
    "from sklearn import ensemble\n",
    "\n",
    "from sklearn import metrics\n",
    "import tensorflow as tf\n",
    "\n",
    "tf.logging.set_verbosity(tf.logging.INFO)"
   ]
  },
  {
   "cell_type": "code",
   "execution_count": 2,
   "metadata": {
    "collapsed": true
   },
   "outputs": [],
   "source": [
    "timestamp = time.strftime(\"%Y-%m-%d-%H-%M-%S\")\n",
    "model_name = 'stack_gb'"
   ]
  },
  {
   "cell_type": "code",
   "execution_count": 3,
   "metadata": {
    "collapsed": false
   },
   "outputs": [
    {
     "name": "stdout",
     "output_type": "stream",
     "text": [
      "total 22524\r\n",
      "-rw-r--r--. 1 root root 1074581 Jan  7 21:09 submission_rfc-2017-01-07-21-07-44.csv\r\n",
      "-rw-r--r--. 1 root root 1074757 Jan  7 21:19 submission-rfc-2017-01-07-21-17-53.csv\r\n",
      "-rw-r--r--. 1 root root 1186344 Jan  7 22:26 submission-rfc-tuned-2017-01-07-21-25-04.csv\r\n",
      "-rw-r--r--. 1 root root 1284088 Jan  7 23:34 submission-rfc-tuned-2017-01-07-22-54-35.csv\r\n",
      "-rw-r--r--. 1 root root 1074327 Jan  7 23:54 submission-bagging-2017-01-07-23-46-27.csv\r\n",
      "-rw-r--r--. 1 root root 2216945 Jan  8 01:11 submission-gb-tuned-2017-01-08-00-18-20.csv\r\n",
      "-rw-r--r--. 1 root root 2110632 Jan  8 03:41 submission-vote-ensemble-2017-01-08-02-49-14.csv\r\n",
      "-rw-r--r--. 1 root root 2110653 Jan  8 16:08 submission-ada-tuned-2017-01-08-16-05-11.csv\r\n",
      "-rw-r--r--. 1 root root 2173040 Jan  8 16:20 submission-vote-ensemble-2017-01-08-16-11-39.csv\r\n",
      "-rw-r--r--. 1 root root 2124339 Jan  8 16:52 submission-linear-tuned-2017-01-08-16-16-12.csv\r\n",
      "-rw-r--r--. 1 root root 2124339 Jan  8 16:55 submission-linear-tuned-2017-01-08-16-53-09.csv\r\n",
      "-rw-r--r--. 1 root root 2211429 Jan  8 17:00 submission-stack_gb-2017-01-08-16-59-48.csv\r\n",
      "-rw-r--r--. 1 root root 2216945 Jan  8 17:05 submission-stack_gb-2017-01-08-17-01-50.csv\r\n"
     ]
    }
   ],
   "source": [
    "!ls -lrt submissions"
   ]
  },
  {
   "cell_type": "code",
   "execution_count": 4,
   "metadata": {
    "collapsed": true
   },
   "outputs": [],
   "source": [
    "training_features = pd.read_csv('data/training_features.csv')\n",
    "test_features = pd.read_csv('data/test_features.csv')"
   ]
  },
  {
   "cell_type": "code",
   "execution_count": 5,
   "metadata": {
    "collapsed": false
   },
   "outputs": [],
   "source": [
    "X_full = training_features.ix[:,2:]\n",
    "y_full = training_features.SeriousDlqin2yrs\n",
    "\n",
    "X_train_full, X_test_full, y_train_full, y_test_full = train_test_split(X_full, y_full, test_size=0.2, stratify=y_full, random_state=42)"
   ]
  },
  {
   "cell_type": "code",
   "execution_count": 6,
   "metadata": {
    "collapsed": false
   },
   "outputs": [],
   "source": [
    "'''\n",
    "submission-rfc-tuned-2017-01-07-22-54-35.csv\n",
    "submission-gb-tuned-2017-01-08-00-18-20.csv\n",
    "submission-ada-tuned-2017-01-08-16-05-11.csv\n",
    "submission-vote-ensemble-2017-01-08-16-11-39.csv\n",
    "'''\n",
    "\n",
    "rfc_mdl = joblib.load('models/rfc-tuned-2017-01-07-22-54-35.pkl')\n",
    "gb_mdl = joblib.load('models/gb-tuned-2017-01-08-00-18-20.pkl')\n",
    "ada_mdl = joblib.load('models/ada-tuned-2017-01-08-16-05-11.pkl')\n",
    "ens_mdl = joblib.load('models/vote-ensemble-2017-01-08-16-11-39.pkl')"
   ]
  },
  {
   "cell_type": "code",
   "execution_count": 7,
   "metadata": {
    "collapsed": false
   },
   "outputs": [
    {
     "name": "stderr",
     "output_type": "stream",
     "text": [
      "[Parallel(n_jobs=16)]: Done  18 tasks      | elapsed:    0.2s\n",
      "[Parallel(n_jobs=16)]: Done 168 tasks      | elapsed:    0.8s\n",
      "[Parallel(n_jobs=16)]: Done 418 tasks      | elapsed:    1.7s\n",
      "[Parallel(n_jobs=16)]: Done 768 tasks      | elapsed:    3.1s\n",
      "[Parallel(n_jobs=16)]: Done 1218 tasks      | elapsed:    4.8s\n",
      "[Parallel(n_jobs=16)]: Done 1768 tasks      | elapsed:    7.0s\n",
      "[Parallel(n_jobs=16)]: Done 2418 tasks      | elapsed:    9.6s\n",
      "[Parallel(n_jobs=16)]: Done 3168 tasks      | elapsed:   12.6s\n",
      "[Parallel(n_jobs=16)]: Done 4018 tasks      | elapsed:   15.9s\n",
      "[Parallel(n_jobs=16)]: Done 4968 tasks      | elapsed:   19.7s\n",
      "[Parallel(n_jobs=16)]: Done 5000 out of 5000 | elapsed:   19.8s finished\n",
      "[Parallel(n_jobs=16)]: Done  18 tasks      | elapsed:    0.1s\n",
      "[Parallel(n_jobs=16)]: Done 168 tasks      | elapsed:    0.7s\n",
      "[Parallel(n_jobs=16)]: Done 418 tasks      | elapsed:    1.7s\n",
      "[Parallel(n_jobs=16)]: Done 768 tasks      | elapsed:    3.1s\n",
      "[Parallel(n_jobs=16)]: Done 1218 tasks      | elapsed:    4.9s\n",
      "[Parallel(n_jobs=16)]: Done 1768 tasks      | elapsed:    7.1s\n",
      "[Parallel(n_jobs=16)]: Done 2418 tasks      | elapsed:    9.7s\n",
      "[Parallel(n_jobs=16)]: Done 3168 tasks      | elapsed:   12.7s\n",
      "[Parallel(n_jobs=16)]: Done 4018 tasks      | elapsed:   16.1s\n",
      "[Parallel(n_jobs=16)]: Done 4968 tasks      | elapsed:   19.9s\n",
      "[Parallel(n_jobs=16)]: Done 5000 out of 5000 | elapsed:   20.0s finished\n"
     ]
    }
   ],
   "source": [
    "rfc_pred = rfc_mdl.predict(X_full)\n",
    "gb_pred = gb_mdl.predict(X_full)\n",
    "ada_pred = ada_mdl.predict(X_full) \n",
    "ens_pred = ens_mdl.predict(X_full) \n",
    "\n",
    "rfc_pred_proba = rfc_mdl.predict_proba(X_full)\n",
    "gb_pred_proba = gb_mdl.predict_proba(X_full)\n",
    "ada_pred_proba = ada_mdl.predict_proba(X_full)\n",
    "ens_pred_proba = ens_mdl.predict_proba(X_full)"
   ]
  },
  {
   "cell_type": "code",
   "execution_count": 8,
   "metadata": {
    "collapsed": false
   },
   "outputs": [
    {
     "data": {
      "text/html": [
       "<div>\n",
       "<table border=\"1\" class=\"dataframe\">\n",
       "  <thead>\n",
       "    <tr style=\"text-align: right;\">\n",
       "      <th></th>\n",
       "      <th>rfc</th>\n",
       "      <th>gb</th>\n",
       "      <th>ada</th>\n",
       "      <th>ens</th>\n",
       "      <th>rfc_0</th>\n",
       "      <th>rfc_1</th>\n",
       "      <th>gb_0</th>\n",
       "      <th>gb_1</th>\n",
       "      <th>ada_0</th>\n",
       "      <th>ada_1</th>\n",
       "      <th>ens_0</th>\n",
       "      <th>ens_1</th>\n",
       "    </tr>\n",
       "  </thead>\n",
       "  <tbody>\n",
       "    <tr>\n",
       "      <th>0</th>\n",
       "      <td>0.0</td>\n",
       "      <td>0.0</td>\n",
       "      <td>0.0</td>\n",
       "      <td>0.0</td>\n",
       "      <td>0.5980</td>\n",
       "      <td>0.4020</td>\n",
       "      <td>0.620199</td>\n",
       "      <td>0.379801</td>\n",
       "      <td>0.500112</td>\n",
       "      <td>0.499888</td>\n",
       "      <td>0.599872</td>\n",
       "      <td>0.400128</td>\n",
       "    </tr>\n",
       "    <tr>\n",
       "      <th>1</th>\n",
       "      <td>0.0</td>\n",
       "      <td>0.0</td>\n",
       "      <td>0.0</td>\n",
       "      <td>0.0</td>\n",
       "      <td>0.9716</td>\n",
       "      <td>0.0284</td>\n",
       "      <td>0.932363</td>\n",
       "      <td>0.067637</td>\n",
       "      <td>0.506503</td>\n",
       "      <td>0.493497</td>\n",
       "      <td>0.877131</td>\n",
       "      <td>0.122869</td>\n",
       "    </tr>\n",
       "    <tr>\n",
       "      <th>2</th>\n",
       "      <td>0.0</td>\n",
       "      <td>0.0</td>\n",
       "      <td>0.0</td>\n",
       "      <td>0.0</td>\n",
       "      <td>0.9304</td>\n",
       "      <td>0.0696</td>\n",
       "      <td>0.648939</td>\n",
       "      <td>0.351061</td>\n",
       "      <td>0.501832</td>\n",
       "      <td>0.498168</td>\n",
       "      <td>0.668132</td>\n",
       "      <td>0.331868</td>\n",
       "    </tr>\n",
       "    <tr>\n",
       "      <th>3</th>\n",
       "      <td>0.0</td>\n",
       "      <td>0.0</td>\n",
       "      <td>0.0</td>\n",
       "      <td>0.0</td>\n",
       "      <td>0.9964</td>\n",
       "      <td>0.0036</td>\n",
       "      <td>0.976785</td>\n",
       "      <td>0.023215</td>\n",
       "      <td>0.509138</td>\n",
       "      <td>0.490862</td>\n",
       "      <td>0.912780</td>\n",
       "      <td>0.087220</td>\n",
       "    </tr>\n",
       "    <tr>\n",
       "      <th>4</th>\n",
       "      <td>0.0</td>\n",
       "      <td>0.0</td>\n",
       "      <td>0.0</td>\n",
       "      <td>0.0</td>\n",
       "      <td>0.9030</td>\n",
       "      <td>0.0970</td>\n",
       "      <td>0.901542</td>\n",
       "      <td>0.098458</td>\n",
       "      <td>0.506518</td>\n",
       "      <td>0.493482</td>\n",
       "      <td>0.845318</td>\n",
       "      <td>0.154682</td>\n",
       "    </tr>\n",
       "  </tbody>\n",
       "</table>\n",
       "</div>"
      ],
      "text/plain": [
       "   rfc   gb  ada  ens   rfc_0   rfc_1      gb_0      gb_1     ada_0     ada_1  \\\n",
       "0  0.0  0.0  0.0  0.0  0.5980  0.4020  0.620199  0.379801  0.500112  0.499888   \n",
       "1  0.0  0.0  0.0  0.0  0.9716  0.0284  0.932363  0.067637  0.506503  0.493497   \n",
       "2  0.0  0.0  0.0  0.0  0.9304  0.0696  0.648939  0.351061  0.501832  0.498168   \n",
       "3  0.0  0.0  0.0  0.0  0.9964  0.0036  0.976785  0.023215  0.509138  0.490862   \n",
       "4  0.0  0.0  0.0  0.0  0.9030  0.0970  0.901542  0.098458  0.506518  0.493482   \n",
       "\n",
       "      ens_0     ens_1  \n",
       "0  0.599872  0.400128  \n",
       "1  0.877131  0.122869  \n",
       "2  0.668132  0.331868  \n",
       "3  0.912780  0.087220  \n",
       "4  0.845318  0.154682  "
      ]
     },
     "execution_count": 8,
     "metadata": {},
     "output_type": "execute_result"
    }
   ],
   "source": [
    "'''X_stack = pd.DataFrame(\n",
    "  np.hstack([rfc_pred_proba, gb_pred_proba, ada_pred_proba, ens_pred_proba]), \n",
    "  columns=['rfc_0', 'rfc_1', 'gb_0', 'gb_1', 'ada_0', 'ada_1', 'ens_0', 'ens_1'])\n",
    "X_stack.head()'''\n",
    "\n",
    "X_stack = pd.DataFrame(\n",
    "  np.hstack([rfc_pred.reshape(-1, 1), gb_pred.reshape(-1, 1), ada_pred.reshape(-1, 1), ens_pred.reshape(-1, 1), \n",
    "             rfc_pred_proba, gb_pred_proba, ada_pred_proba, ens_pred_proba]), \n",
    "  columns=['rfc', 'gb', 'ada', 'ens', 'rfc_0', 'rfc_1', 'gb_0', 'gb_1', 'ada_0', 'ada_1', 'ens_0', 'ens_1'])\n",
    "X_stack.head()"
   ]
  },
  {
   "cell_type": "code",
   "execution_count": 9,
   "metadata": {
    "collapsed": false
   },
   "outputs": [],
   "source": [
    "y_stack = y_full"
   ]
  },
  {
   "cell_type": "code",
   "execution_count": 10,
   "metadata": {
    "collapsed": false
   },
   "outputs": [
    {
     "name": "stderr",
     "output_type": "stream",
     "text": [
      "WARNING:tensorflow:float64 is not supported by many models, consider casting to float32.\n",
      "WARNING:tensorflow:Change warning: default value of `enable_centered_bias` will change after 2016-10-09. It will be disabled by default.Instructions for keeping existing behaviour:\n",
      "Explicitly set `enable_centered_bias` to 'True' if you want to keep existing behaviour.\n",
      "WARNING:tensorflow:Using default config.\n",
      "INFO:tensorflow:Using config: {'task': 0, 'save_summary_steps': 100, 'keep_checkpoint_max': 5, '_is_chief': True, 'save_checkpoints_secs': 600, 'evaluation_master': '', 'tf_config': gpu_options {\n",
      "  per_process_gpu_memory_fraction: 1\n",
      "}\n",
      ", 'master': '', 'keep_checkpoint_every_n_hours': 10000, '_job_name': None, 'cluster_spec': None, 'tf_random_seed': None, 'num_ps_replicas': 0}\n",
      "WARNING:tensorflow:float64 is not supported by many models, consider casting to float32.\n",
      "WARNING:tensorflow:float64 is not supported by many models, consider casting to float32.\n",
      "INFO:tensorflow:Setting feature info to TensorSignature(dtype=tf.float64, shape=TensorShape([Dimension(None), Dimension(12)]), is_sparse=False)\n",
      "INFO:tensorflow:Setting targets info to TensorSignature(dtype=tf.float64, shape=TensorShape([Dimension(None)]), is_sparse=False)\n",
      "WARNING:tensorflow:tf.variable_op_scope(values, name, default_name) is deprecated, use tf.variable_scope(name, default_name, values)\n",
      "INFO:tensorflow:Transforming feature_column _RealValuedColumn(column_name='', dimension=12, default_value=None, dtype=tf.float64, normalizer=None)\n",
      "INFO:tensorflow:Create CheckpointSaverHook\n",
      "INFO:tensorflow:loss = 0.693323, step = 1\n",
      "INFO:tensorflow:Saving checkpoints for 1 into /tmp/tmpoUq70g/model.ckpt.\n",
      "INFO:tensorflow:loss = 0.0948398, step = 101\n",
      "INFO:tensorflow:Saving checkpoints for 200 into /tmp/tmpoUq70g/model.ckpt.\n",
      "INFO:tensorflow:Loss for final step: 0.0745868.\n"
     ]
    },
    {
     "data": {
      "text/plain": [
       "Estimator(params={'enable_centered_bias': True, 'weight_column_name': None, 'optimizer': <tensorflow.python.training.ftrl.FtrlOptimizer object at 0x7ff44db8cfd0>, 'feature_columns': [_RealValuedColumn(column_name='', dimension=12, default_value=None, dtype=tf.float64, normalizer=None)], 'n_classes': 2, 'joint_weights': False, 'gradient_clip_norm': None, 'num_ps_replicas': 0})"
      ]
     },
     "execution_count": 10,
     "metadata": {},
     "output_type": "execute_result"
    }
   ],
   "source": [
    "feature_columns = tf.contrib.learn.infer_real_valued_columns_from_input(X_stack)\n",
    "\n",
    "clf = tf.contrib.learn.LinearClassifier(feature_columns=feature_columns)\n",
    "\n",
    "clf.fit(X_stack, y_stack, steps=200)"
   ]
  },
  {
   "cell_type": "code",
   "execution_count": 11,
   "metadata": {
    "collapsed": false
   },
   "outputs": [
    {
     "name": "stderr",
     "output_type": "stream",
     "text": [
      "WARNING:tensorflow:float64 is not supported by many models, consider casting to float32.\n",
      "WARNING:tensorflow:float64 is not supported by many models, consider casting to float32.\n",
      "WARNING:tensorflow:Given features: Tensor(\"input:0\", shape=(?, 12), dtype=float64), required signatures: TensorSignature(dtype=tf.float64, shape=TensorShape([Dimension(None), Dimension(12)]), is_sparse=False).\n",
      "WARNING:tensorflow:Given targets: Tensor(\"output:0\", shape=(?,), dtype=float64), required signatures: TensorSignature(dtype=tf.float64, shape=TensorShape([Dimension(None)]), is_sparse=False).\n",
      "WARNING:tensorflow:tf.variable_op_scope(values, name, default_name) is deprecated, use tf.variable_scope(name, default_name, values)\n",
      "INFO:tensorflow:Transforming feature_column _RealValuedColumn(column_name='', dimension=12, default_value=None, dtype=tf.float64, normalizer=None)\n",
      "INFO:tensorflow:Restored model from /tmp/tmpoUq70g\n",
      "INFO:tensorflow:Eval steps [0,inf) for training step 200.\n",
      "INFO:tensorflow:Input iterator is exhausted.\n",
      "INFO:tensorflow:Saving evaluation summary for 200 step: loss = 0.0744768, auc = 0.973357, accuracy/threshold_0.500000_mean = 0.986927, labels/actual_target_mean = 0.06684, recall/positive_threshold_0.500000_mean = 0.835029, labels/prediction_mean = 0.064395, accuracy/baseline_target_mean = 0.06684, precision/positive_threshold_0.500000_mean = 0.964627, accuracy = 0.986927\n"
     ]
    },
    {
     "data": {
      "text/plain": [
       "{'accuracy': 0.98692667,\n",
       " 'accuracy/baseline_target_mean': 0.06684,\n",
       " 'accuracy/threshold_0.500000_mean': 0.98692667,\n",
       " 'auc': 0.97335696,\n",
       " 'global_step': 200,\n",
       " 'labels/actual_target_mean': 0.06684,\n",
       " 'labels/prediction_mean': 0.064395018,\n",
       " 'loss': 0.074476801,\n",
       " 'precision/positive_threshold_0.500000_mean': 0.96462727,\n",
       " 'recall/positive_threshold_0.500000_mean': 0.83502895}"
      ]
     },
     "execution_count": 11,
     "metadata": {},
     "output_type": "execute_result"
    }
   ],
   "source": [
    "clf.evaluate(X_stack, y_stack)"
   ]
  },
  {
   "cell_type": "code",
   "execution_count": 14,
   "metadata": {
    "collapsed": false
   },
   "outputs": [
    {
     "data": {
      "text/html": [
       "<div>\n",
       "<table border=\"1\" class=\"dataframe\">\n",
       "  <thead>\n",
       "    <tr style=\"text-align: right;\">\n",
       "      <th></th>\n",
       "      <th>rfc</th>\n",
       "      <th>gb</th>\n",
       "      <th>ada</th>\n",
       "      <th>ens</th>\n",
       "      <th>rfc_0</th>\n",
       "      <th>rfc_1</th>\n",
       "      <th>gb_0</th>\n",
       "      <th>gb_1</th>\n",
       "      <th>ada_0</th>\n",
       "      <th>ada_1</th>\n",
       "      <th>ens_0</th>\n",
       "      <th>ens_1</th>\n",
       "    </tr>\n",
       "  </thead>\n",
       "  <tbody>\n",
       "    <tr>\n",
       "      <th>0</th>\n",
       "      <td>0.0</td>\n",
       "      <td>0.0</td>\n",
       "      <td>0.0</td>\n",
       "      <td>0.0</td>\n",
       "      <td>0.5980</td>\n",
       "      <td>0.4020</td>\n",
       "      <td>0.620199</td>\n",
       "      <td>0.379801</td>\n",
       "      <td>0.500112</td>\n",
       "      <td>0.499888</td>\n",
       "      <td>0.599872</td>\n",
       "      <td>0.400128</td>\n",
       "    </tr>\n",
       "    <tr>\n",
       "      <th>1</th>\n",
       "      <td>0.0</td>\n",
       "      <td>0.0</td>\n",
       "      <td>0.0</td>\n",
       "      <td>0.0</td>\n",
       "      <td>0.9716</td>\n",
       "      <td>0.0284</td>\n",
       "      <td>0.932363</td>\n",
       "      <td>0.067637</td>\n",
       "      <td>0.506503</td>\n",
       "      <td>0.493497</td>\n",
       "      <td>0.877131</td>\n",
       "      <td>0.122869</td>\n",
       "    </tr>\n",
       "    <tr>\n",
       "      <th>2</th>\n",
       "      <td>0.0</td>\n",
       "      <td>0.0</td>\n",
       "      <td>0.0</td>\n",
       "      <td>0.0</td>\n",
       "      <td>0.9304</td>\n",
       "      <td>0.0696</td>\n",
       "      <td>0.648939</td>\n",
       "      <td>0.351061</td>\n",
       "      <td>0.501832</td>\n",
       "      <td>0.498168</td>\n",
       "      <td>0.668132</td>\n",
       "      <td>0.331868</td>\n",
       "    </tr>\n",
       "    <tr>\n",
       "      <th>3</th>\n",
       "      <td>0.0</td>\n",
       "      <td>0.0</td>\n",
       "      <td>0.0</td>\n",
       "      <td>0.0</td>\n",
       "      <td>0.9964</td>\n",
       "      <td>0.0036</td>\n",
       "      <td>0.976785</td>\n",
       "      <td>0.023215</td>\n",
       "      <td>0.509138</td>\n",
       "      <td>0.490862</td>\n",
       "      <td>0.912780</td>\n",
       "      <td>0.087220</td>\n",
       "    </tr>\n",
       "    <tr>\n",
       "      <th>4</th>\n",
       "      <td>0.0</td>\n",
       "      <td>0.0</td>\n",
       "      <td>0.0</td>\n",
       "      <td>0.0</td>\n",
       "      <td>0.9030</td>\n",
       "      <td>0.0970</td>\n",
       "      <td>0.901542</td>\n",
       "      <td>0.098458</td>\n",
       "      <td>0.506518</td>\n",
       "      <td>0.493482</td>\n",
       "      <td>0.845318</td>\n",
       "      <td>0.154682</td>\n",
       "    </tr>\n",
       "  </tbody>\n",
       "</table>\n",
       "</div>"
      ],
      "text/plain": [
       "   rfc   gb  ada  ens   rfc_0   rfc_1      gb_0      gb_1     ada_0     ada_1  \\\n",
       "0  0.0  0.0  0.0  0.0  0.5980  0.4020  0.620199  0.379801  0.500112  0.499888   \n",
       "1  0.0  0.0  0.0  0.0  0.9716  0.0284  0.932363  0.067637  0.506503  0.493497   \n",
       "2  0.0  0.0  0.0  0.0  0.9304  0.0696  0.648939  0.351061  0.501832  0.498168   \n",
       "3  0.0  0.0  0.0  0.0  0.9964  0.0036  0.976785  0.023215  0.509138  0.490862   \n",
       "4  0.0  0.0  0.0  0.0  0.9030  0.0970  0.901542  0.098458  0.506518  0.493482   \n",
       "\n",
       "      ens_0     ens_1  \n",
       "0  0.599872  0.400128  \n",
       "1  0.877131  0.122869  \n",
       "2  0.668132  0.331868  \n",
       "3  0.912780  0.087220  \n",
       "4  0.845318  0.154682  "
      ]
     },
     "execution_count": 14,
     "metadata": {},
     "output_type": "execute_result"
    }
   ],
   "source": [
    "X_stack.head()"
   ]
  },
  {
   "cell_type": "code",
   "execution_count": 114,
   "metadata": {
    "collapsed": false
   },
   "outputs": [
    {
     "name": "stdout",
     "output_type": "stream",
     "text": [
      "models/stack_gb-2017-01-08-17-01-50.pkl\n"
     ]
    }
   ],
   "source": [
    "'''flename = 'models/%s-%s.pkl' % (model_name, timestamp)\n",
    "\n",
    "joblib.dump(clf, flename)\n",
    "\n",
    "log = '%s,%s\\n' % (flename, clf)\n",
    "\n",
    "fle = open('model_log.csv', 'a')\n",
    "fle.write(log)\n",
    "fle.flush()\n",
    "fle.close()\n",
    "\n",
    "print flename'''"
   ]
  },
  {
   "cell_type": "code",
   "execution_count": 13,
   "metadata": {
    "collapsed": false
   },
   "outputs": [
    {
     "name": "stderr",
     "output_type": "stream",
     "text": [
      "WARNING:tensorflow:Calling predict (from tensorflow.contrib.learn.python.learn.estimators.estimator) with as_iterable=False is deprecated and will be removed after 2016-09-15.\n",
      "Instructions for updating:\n",
      "The default behavior of predict() is changing. The default value for\n",
      "as_iterable will change to True, and then the flag will be removed\n",
      "altogether. The behavior of this flag is described below.\n",
      "WARNING:tensorflow:float64 is not supported by many models, consider casting to float32.\n",
      "WARNING:tensorflow:tf.variable_op_scope(values, name, default_name) is deprecated, use tf.variable_scope(name, default_name, values)\n",
      "INFO:tensorflow:Transforming feature_column _RealValuedColumn(column_name='', dimension=12, default_value=None, dtype=tf.float64, normalizer=None)\n",
      "INFO:tensorflow:Loading model from checkpoint: /tmp/tmpoUq70g/model.ckpt-200-?????-of-00001.\n"
     ]
    },
    {
     "ename": "InvalidArgumentError",
     "evalue": "Input to reshape is a tensor with 8018737 values, but the requested shape requires a multiple of 12\n\t [[Node: linear/linear/reshape = Reshape[T=DT_FLOAT, Tshape=DT_INT32, _device=\"/job:localhost/replica:0/task:0/cpu:0\"](linear/linear/ToFloat, linear/linear/reshape/shape)]]\n\nCaused by op u'linear/linear/reshape', defined at:\n  File \"/usr/lib/python2.7/runpy.py\", line 162, in _run_module_as_main\n    \"__main__\", fname, loader, pkg_name)\n  File \"/usr/lib/python2.7/runpy.py\", line 72, in _run_code\n    exec code in run_globals\n  File \"/usr/local/lib/python2.7/dist-packages/ipykernel/__main__.py\", line 3, in <module>\n    app.launch_new_instance()\n  File \"/usr/local/lib/python2.7/dist-packages/traitlets/config/application.py\", line 658, in launch_instance\n    app.start()\n  File \"/usr/local/lib/python2.7/dist-packages/ipykernel/kernelapp.py\", line 474, in start\n    ioloop.IOLoop.instance().start()\n  File \"/usr/local/lib/python2.7/dist-packages/zmq/eventloop/ioloop.py\", line 177, in start\n    super(ZMQIOLoop, self).start()\n  File \"/usr/local/lib/python2.7/dist-packages/tornado/ioloop.py\", line 887, in start\n    handler_func(fd_obj, events)\n  File \"/usr/local/lib/python2.7/dist-packages/tornado/stack_context.py\", line 275, in null_wrapper\n    return fn(*args, **kwargs)\n  File \"/usr/local/lib/python2.7/dist-packages/zmq/eventloop/zmqstream.py\", line 440, in _handle_events\n    self._handle_recv()\n  File \"/usr/local/lib/python2.7/dist-packages/zmq/eventloop/zmqstream.py\", line 472, in _handle_recv\n    self._run_callback(callback, msg)\n  File \"/usr/local/lib/python2.7/dist-packages/zmq/eventloop/zmqstream.py\", line 414, in _run_callback\n    callback(*args, **kwargs)\n  File \"/usr/local/lib/python2.7/dist-packages/tornado/stack_context.py\", line 275, in null_wrapper\n    return fn(*args, **kwargs)\n  File \"/usr/local/lib/python2.7/dist-packages/ipykernel/kernelbase.py\", line 276, in dispatcher\n    return self.dispatch_shell(stream, msg)\n  File \"/usr/local/lib/python2.7/dist-packages/ipykernel/kernelbase.py\", line 228, in dispatch_shell\n    handler(stream, idents, msg)\n  File \"/usr/local/lib/python2.7/dist-packages/ipykernel/kernelbase.py\", line 390, in execute_request\n    user_expressions, allow_stdin)\n  File \"/usr/local/lib/python2.7/dist-packages/ipykernel/ipkernel.py\", line 196, in do_execute\n    res = shell.run_cell(code, store_history=store_history, silent=silent)\n  File \"/usr/local/lib/python2.7/dist-packages/ipykernel/zmqshell.py\", line 498, in run_cell\n    return super(ZMQInteractiveShell, self).run_cell(*args, **kwargs)\n  File \"/usr/local/lib/python2.7/dist-packages/IPython/core/interactiveshell.py\", line 2717, in run_cell\n    interactivity=interactivity, compiler=compiler, result=result)\n  File \"/usr/local/lib/python2.7/dist-packages/IPython/core/interactiveshell.py\", line 2821, in run_ast_nodes\n    if self.run_code(code, result):\n  File \"/usr/local/lib/python2.7/dist-packages/IPython/core/interactiveshell.py\", line 2881, in run_code\n    exec(code_obj, self.user_global_ns, self.user_ns)\n  File \"<ipython-input-13-5722d2643b9a>\", line 2, in <module>\n    y_submission = clf.predict_proba(X_submission.astype(np.float32))\n  File \"/usr/local/lib/python2.7/dist-packages/tensorflow/contrib/learn/python/learn/estimators/linear.py\", line 545, in predict_proba\n    as_iterable=as_iterable)\n  File \"/usr/local/lib/python2.7/dist-packages/tensorflow/contrib/framework/python/framework/deprecation.py\", line 272, in new_func\n    return func(*args, **kwargs)\n  File \"/usr/local/lib/python2.7/dist-packages/tensorflow/contrib/learn/python/learn/estimators/estimator.py\", line 439, in predict\n    as_iterable=as_iterable)\n  File \"/usr/local/lib/python2.7/dist-packages/tensorflow/contrib/learn/python/learn/estimators/estimator.py\", line 793, in _infer_model\n    predictions = self._get_predict_ops(features)\n  File \"/usr/local/lib/python2.7/dist-packages/tensorflow/contrib/learn/python/learn/estimators/estimator.py\", line 1011, in _get_predict_ops\n    predictions, _, _ = self._call_model_fn(features, targets, ModeKeys.INFER)\n  File \"/usr/local/lib/python2.7/dist-packages/tensorflow/contrib/learn/python/learn/estimators/estimator.py\", line 944, in _call_model_fn\n    return self._model_fn(features, targets, mode=mode, params=self.params)\n  File \"/usr/local/lib/python2.7/dist-packages/tensorflow/contrib/learn/python/learn/estimators/linear.py\", line 213, in _linear_classifier_model_fn\n    scope=scope))\n  File \"/usr/local/lib/python2.7/dist-packages/tensorflow/contrib/layers/python/layers/feature_column_ops.py\", line 358, in weighted_sum_from_feature_columns\n    transformed_tensor = transformer.transform(column)\n  File \"/usr/local/lib/python2.7/dist-packages/tensorflow/contrib/layers/python/layers/feature_column_ops.py\", line 583, in transform\n    feature_column.insert_transformed_feature(self._columns_to_tensors)\n  File \"/usr/local/lib/python2.7/dist-packages/tensorflow/contrib/layers/python/layers/feature_column.py\", line 1226, in insert_transformed_feature\n    math_ops.to_float(input_tensor), flattened_shape, name=\"reshape\")\n  File \"/usr/local/lib/python2.7/dist-packages/tensorflow/python/ops/gen_array_ops.py\", line 1977, in reshape\n    name=name)\n  File \"/usr/local/lib/python2.7/dist-packages/tensorflow/python/framework/op_def_library.py\", line 749, in apply_op\n    op_def=op_def)\n  File \"/usr/local/lib/python2.7/dist-packages/tensorflow/python/framework/ops.py\", line 2380, in create_op\n    original_op=self._default_original_op, op_def=op_def)\n  File \"/usr/local/lib/python2.7/dist-packages/tensorflow/python/framework/ops.py\", line 1298, in __init__\n    self._traceback = _extract_stack()\n\nInvalidArgumentError (see above for traceback): Input to reshape is a tensor with 8018737 values, but the requested shape requires a multiple of 12\n\t [[Node: linear/linear/reshape = Reshape[T=DT_FLOAT, Tshape=DT_INT32, _device=\"/job:localhost/replica:0/task:0/cpu:0\"](linear/linear/ToFloat, linear/linear/reshape/shape)]]\n",
     "output_type": "error",
     "traceback": [
      "\u001b[0;31m\u001b[0m",
      "\u001b[0;31mInvalidArgumentError\u001b[0mTraceback (most recent call last)",
      "\u001b[0;32m<ipython-input-13-5722d2643b9a>\u001b[0m in \u001b[0;36m<module>\u001b[0;34m()\u001b[0m\n\u001b[1;32m      1\u001b[0m \u001b[0mX_submission\u001b[0m \u001b[0;34m=\u001b[0m \u001b[0mtest_features\u001b[0m\u001b[0;34m.\u001b[0m\u001b[0mix\u001b[0m\u001b[0;34m[\u001b[0m\u001b[0;34m:\u001b[0m\u001b[0;34m,\u001b[0m\u001b[0;36m2\u001b[0m\u001b[0;34m:\u001b[0m\u001b[0;34m]\u001b[0m\u001b[0;34m\u001b[0m\u001b[0m\n\u001b[0;32m----> 2\u001b[0;31m \u001b[0my_submission\u001b[0m \u001b[0;34m=\u001b[0m \u001b[0mclf\u001b[0m\u001b[0;34m.\u001b[0m\u001b[0mpredict_proba\u001b[0m\u001b[0;34m(\u001b[0m\u001b[0mX_submission\u001b[0m\u001b[0;34m.\u001b[0m\u001b[0mastype\u001b[0m\u001b[0;34m(\u001b[0m\u001b[0mnp\u001b[0m\u001b[0;34m.\u001b[0m\u001b[0mfloat32\u001b[0m\u001b[0;34m)\u001b[0m\u001b[0;34m)\u001b[0m\u001b[0;34m\u001b[0m\u001b[0m\n\u001b[0m",
      "\u001b[0;32m/usr/local/lib/python2.7/dist-packages/tensorflow/contrib/learn/python/learn/estimators/linear.pyc\u001b[0m in \u001b[0;36mpredict_proba\u001b[0;34m(self, x, input_fn, batch_size, outputs, as_iterable)\u001b[0m\n\u001b[1;32m    543\u001b[0m                                     \u001b[0mbatch_size\u001b[0m\u001b[0;34m=\u001b[0m\u001b[0mbatch_size\u001b[0m\u001b[0;34m,\u001b[0m\u001b[0;34m\u001b[0m\u001b[0m\n\u001b[1;32m    544\u001b[0m                                     \u001b[0moutputs\u001b[0m\u001b[0;34m=\u001b[0m\u001b[0;34m[\u001b[0m\u001b[0m_PROBABILITIES\u001b[0m\u001b[0;34m]\u001b[0m\u001b[0;34m,\u001b[0m\u001b[0;34m\u001b[0m\u001b[0m\n\u001b[0;32m--> 545\u001b[0;31m                                     as_iterable=as_iterable)\n\u001b[0m\u001b[1;32m    546\u001b[0m     \u001b[0;32mif\u001b[0m \u001b[0mas_iterable\u001b[0m\u001b[0;34m:\u001b[0m\u001b[0;34m\u001b[0m\u001b[0m\n\u001b[1;32m    547\u001b[0m       \u001b[0;32mreturn\u001b[0m \u001b[0m_as_iterable\u001b[0m\u001b[0;34m(\u001b[0m\u001b[0mpreds\u001b[0m\u001b[0;34m,\u001b[0m \u001b[0moutput\u001b[0m\u001b[0;34m=\u001b[0m\u001b[0m_PROBABILITIES\u001b[0m\u001b[0;34m)\u001b[0m\u001b[0;34m\u001b[0m\u001b[0m\n",
      "\u001b[0;32m/usr/local/lib/python2.7/dist-packages/tensorflow/contrib/framework/python/framework/deprecation.pyc\u001b[0m in \u001b[0;36mnew_func\u001b[0;34m(*args, **kwargs)\u001b[0m\n\u001b[1;32m    270\u001b[0m               \u001b[0m_get_qualified_name\u001b[0m\u001b[0;34m(\u001b[0m\u001b[0mfunc\u001b[0m\u001b[0;34m)\u001b[0m\u001b[0;34m,\u001b[0m \u001b[0mfunc\u001b[0m\u001b[0;34m.\u001b[0m\u001b[0m__module__\u001b[0m\u001b[0;34m,\u001b[0m\u001b[0;34m\u001b[0m\u001b[0m\n\u001b[1;32m    271\u001b[0m               arg_name, arg_value, date, instructions)\n\u001b[0;32m--> 272\u001b[0;31m       \u001b[0;32mreturn\u001b[0m \u001b[0mfunc\u001b[0m\u001b[0;34m(\u001b[0m\u001b[0;34m*\u001b[0m\u001b[0margs\u001b[0m\u001b[0;34m,\u001b[0m \u001b[0;34m**\u001b[0m\u001b[0mkwargs\u001b[0m\u001b[0;34m)\u001b[0m\u001b[0;34m\u001b[0m\u001b[0m\n\u001b[0m\u001b[1;32m    273\u001b[0m     new_func.__doc__ = _add_deprecated_arg_notice_to_docstring(\n\u001b[1;32m    274\u001b[0m         func.__doc__, date, instructions)\n",
      "\u001b[0;32m/usr/local/lib/python2.7/dist-packages/tensorflow/contrib/learn/python/learn/estimators/estimator.pyc\u001b[0m in \u001b[0;36mpredict\u001b[0;34m(self, x, input_fn, batch_size, outputs, as_iterable)\u001b[0m\n\u001b[1;32m    437\u001b[0m     return self._infer_model(\n\u001b[1;32m    438\u001b[0m         \u001b[0minput_fn\u001b[0m\u001b[0;34m=\u001b[0m\u001b[0minput_fn\u001b[0m\u001b[0;34m,\u001b[0m \u001b[0mfeed_fn\u001b[0m\u001b[0;34m=\u001b[0m\u001b[0mfeed_fn\u001b[0m\u001b[0;34m,\u001b[0m \u001b[0moutputs\u001b[0m\u001b[0;34m=\u001b[0m\u001b[0moutputs\u001b[0m\u001b[0;34m,\u001b[0m\u001b[0;34m\u001b[0m\u001b[0m\n\u001b[0;32m--> 439\u001b[0;31m         as_iterable=as_iterable)\n\u001b[0m\u001b[1;32m    440\u001b[0m \u001b[0;34m\u001b[0m\u001b[0m\n\u001b[1;32m    441\u001b[0m   \u001b[0;32mdef\u001b[0m \u001b[0mget_variable_value\u001b[0m\u001b[0;34m(\u001b[0m\u001b[0mself\u001b[0m\u001b[0;34m,\u001b[0m \u001b[0mname\u001b[0m\u001b[0;34m)\u001b[0m\u001b[0;34m:\u001b[0m\u001b[0;34m\u001b[0m\u001b[0m\n",
      "\u001b[0;32m/usr/local/lib/python2.7/dist-packages/tensorflow/contrib/learn/python/learn/estimators/estimator.pyc\u001b[0m in \u001b[0;36m_infer_model\u001b[0;34m(self, input_fn, feed_fn, outputs, as_iterable)\u001b[0m\n\u001b[1;32m    813\u001b[0m       \u001b[0;32melse\u001b[0m\u001b[0;34m:\u001b[0m\u001b[0;34m\u001b[0m\u001b[0m\n\u001b[1;32m    814\u001b[0m         return self._infer_model_single(\n\u001b[0;32m--> 815\u001b[0;31m             checkpoint_path, predictions, feed_fn, return_dict)\n\u001b[0m\u001b[1;32m    816\u001b[0m \u001b[0;34m\u001b[0m\u001b[0m\n\u001b[1;32m    817\u001b[0m   def _infer_model_single(\n",
      "\u001b[0;32m/usr/local/lib/python2.7/dist-packages/tensorflow/contrib/learn/python/learn/estimators/estimator.pyc\u001b[0m in \u001b[0;36m_infer_model_single\u001b[0;34m(self, checkpoint_path, predictions, feed_fn, return_dict)\u001b[0m\n\u001b[1;32m    827\u001b[0m           \u001b[0moutput_dict\u001b[0m\u001b[0;34m=\u001b[0m\u001b[0mpredictions\u001b[0m\u001b[0;34m,\u001b[0m\u001b[0;34m\u001b[0m\u001b[0m\n\u001b[1;32m    828\u001b[0m           \u001b[0mfeed_dicts\u001b[0m\u001b[0;34m=\u001b[0m\u001b[0m_feed_fn\u001b[0m\u001b[0;34m(\u001b[0m\u001b[0;34m)\u001b[0m\u001b[0;34m,\u001b[0m\u001b[0;34m\u001b[0m\u001b[0m\n\u001b[0;32m--> 829\u001b[0;31m           restore_checkpoint_path=checkpoint_path)\n\u001b[0m\u001b[1;32m    830\u001b[0m       preds = {\n\u001b[1;32m    831\u001b[0m           \u001b[0mkey\u001b[0m\u001b[0;34m:\u001b[0m \u001b[0mnp\u001b[0m\u001b[0;34m.\u001b[0m\u001b[0mconcatenate\u001b[0m\u001b[0;34m(\u001b[0m\u001b[0;34m[\u001b[0m\u001b[0moutput\u001b[0m\u001b[0;34m[\u001b[0m\u001b[0mkey\u001b[0m\u001b[0;34m]\u001b[0m \u001b[0;32mfor\u001b[0m \u001b[0moutput\u001b[0m \u001b[0;32min\u001b[0m \u001b[0moutputs\u001b[0m\u001b[0;34m]\u001b[0m\u001b[0;34m,\u001b[0m \u001b[0maxis\u001b[0m\u001b[0;34m=\u001b[0m\u001b[0;36m0\u001b[0m\u001b[0;34m)\u001b[0m\u001b[0;34m\u001b[0m\u001b[0m\n",
      "\u001b[0;32m/usr/local/lib/python2.7/dist-packages/tensorflow/contrib/learn/python/learn/graph_actions.pyc\u001b[0m in \u001b[0;36mrun_feeds\u001b[0;34m(*args, **kwargs)\u001b[0m\n\u001b[1;32m    857\u001b[0m \u001b[0;32mdef\u001b[0m \u001b[0mrun_feeds\u001b[0m\u001b[0;34m(\u001b[0m\u001b[0;34m*\u001b[0m\u001b[0margs\u001b[0m\u001b[0;34m,\u001b[0m \u001b[0;34m**\u001b[0m\u001b[0mkwargs\u001b[0m\u001b[0;34m)\u001b[0m\u001b[0;34m:\u001b[0m\u001b[0;34m\u001b[0m\u001b[0m\n\u001b[1;32m    858\u001b[0m   \u001b[0;34m\"\"\"See run_feeds_iter(). Returns a `list` instead of an iterator.\"\"\"\u001b[0m\u001b[0;34m\u001b[0m\u001b[0m\n\u001b[0;32m--> 859\u001b[0;31m   \u001b[0;32mreturn\u001b[0m \u001b[0mlist\u001b[0m\u001b[0;34m(\u001b[0m\u001b[0mrun_feeds_iter\u001b[0m\u001b[0;34m(\u001b[0m\u001b[0;34m*\u001b[0m\u001b[0margs\u001b[0m\u001b[0;34m,\u001b[0m \u001b[0;34m**\u001b[0m\u001b[0mkwargs\u001b[0m\u001b[0;34m)\u001b[0m\u001b[0;34m)\u001b[0m\u001b[0;34m\u001b[0m\u001b[0m\n\u001b[0m\u001b[1;32m    860\u001b[0m \u001b[0;34m\u001b[0m\u001b[0m\n\u001b[1;32m    861\u001b[0m \u001b[0;34m\u001b[0m\u001b[0m\n",
      "\u001b[0;32m/usr/local/lib/python2.7/dist-packages/tensorflow/contrib/learn/python/learn/graph_actions.pyc\u001b[0m in \u001b[0;36mrun_feeds_iter\u001b[0;34m(output_dict, feed_dicts, restore_checkpoint_path)\u001b[0m\n\u001b[1;32m    848\u001b[0m         \u001b[0mthreads\u001b[0m \u001b[0;34m=\u001b[0m \u001b[0mqueue_runner\u001b[0m\u001b[0;34m.\u001b[0m\u001b[0mstart_queue_runners\u001b[0m\u001b[0;34m(\u001b[0m\u001b[0msession\u001b[0m\u001b[0;34m,\u001b[0m \u001b[0mcoord\u001b[0m\u001b[0;34m=\u001b[0m\u001b[0mcoord\u001b[0m\u001b[0;34m)\u001b[0m\u001b[0;34m\u001b[0m\u001b[0m\n\u001b[1;32m    849\u001b[0m         \u001b[0;32mfor\u001b[0m \u001b[0mf\u001b[0m \u001b[0;32min\u001b[0m \u001b[0mfeed_dicts\u001b[0m\u001b[0;34m:\u001b[0m\u001b[0;34m\u001b[0m\u001b[0m\n\u001b[0;32m--> 850\u001b[0;31m           \u001b[0;32myield\u001b[0m \u001b[0msession\u001b[0m\u001b[0;34m.\u001b[0m\u001b[0mrun\u001b[0m\u001b[0;34m(\u001b[0m\u001b[0moutput_dict\u001b[0m\u001b[0;34m,\u001b[0m \u001b[0mf\u001b[0m\u001b[0;34m)\u001b[0m\u001b[0;34m\u001b[0m\u001b[0m\n\u001b[0m\u001b[1;32m    851\u001b[0m       \u001b[0;32mfinally\u001b[0m\u001b[0;34m:\u001b[0m\u001b[0;34m\u001b[0m\u001b[0m\n\u001b[1;32m    852\u001b[0m         \u001b[0mcoord\u001b[0m\u001b[0;34m.\u001b[0m\u001b[0mrequest_stop\u001b[0m\u001b[0;34m(\u001b[0m\u001b[0;34m)\u001b[0m\u001b[0;34m\u001b[0m\u001b[0m\n",
      "\u001b[0;32m/usr/local/lib/python2.7/dist-packages/tensorflow/python/client/session.pyc\u001b[0m in \u001b[0;36mrun\u001b[0;34m(self, fetches, feed_dict, options, run_metadata)\u001b[0m\n\u001b[1;32m    715\u001b[0m     \u001b[0;32mtry\u001b[0m\u001b[0;34m:\u001b[0m\u001b[0;34m\u001b[0m\u001b[0m\n\u001b[1;32m    716\u001b[0m       result = self._run(None, fetches, feed_dict, options_ptr,\n\u001b[0;32m--> 717\u001b[0;31m                          run_metadata_ptr)\n\u001b[0m\u001b[1;32m    718\u001b[0m       \u001b[0;32mif\u001b[0m \u001b[0mrun_metadata\u001b[0m\u001b[0;34m:\u001b[0m\u001b[0;34m\u001b[0m\u001b[0m\n\u001b[1;32m    719\u001b[0m         \u001b[0mproto_data\u001b[0m \u001b[0;34m=\u001b[0m \u001b[0mtf_session\u001b[0m\u001b[0;34m.\u001b[0m\u001b[0mTF_GetBuffer\u001b[0m\u001b[0;34m(\u001b[0m\u001b[0mrun_metadata_ptr\u001b[0m\u001b[0;34m)\u001b[0m\u001b[0;34m\u001b[0m\u001b[0m\n",
      "\u001b[0;32m/usr/local/lib/python2.7/dist-packages/tensorflow/python/client/session.pyc\u001b[0m in \u001b[0;36m_run\u001b[0;34m(self, handle, fetches, feed_dict, options, run_metadata)\u001b[0m\n\u001b[1;32m    913\u001b[0m     \u001b[0;32mif\u001b[0m \u001b[0mfinal_fetches\u001b[0m \u001b[0;32mor\u001b[0m \u001b[0mfinal_targets\u001b[0m\u001b[0;34m:\u001b[0m\u001b[0;34m\u001b[0m\u001b[0m\n\u001b[1;32m    914\u001b[0m       results = self._do_run(handle, final_targets, final_fetches,\n\u001b[0;32m--> 915\u001b[0;31m                              feed_dict_string, options, run_metadata)\n\u001b[0m\u001b[1;32m    916\u001b[0m     \u001b[0;32melse\u001b[0m\u001b[0;34m:\u001b[0m\u001b[0;34m\u001b[0m\u001b[0m\n\u001b[1;32m    917\u001b[0m       \u001b[0mresults\u001b[0m \u001b[0;34m=\u001b[0m \u001b[0;34m[\u001b[0m\u001b[0;34m]\u001b[0m\u001b[0;34m\u001b[0m\u001b[0m\n",
      "\u001b[0;32m/usr/local/lib/python2.7/dist-packages/tensorflow/python/client/session.pyc\u001b[0m in \u001b[0;36m_do_run\u001b[0;34m(self, handle, target_list, fetch_list, feed_dict, options, run_metadata)\u001b[0m\n\u001b[1;32m    963\u001b[0m     \u001b[0;32mif\u001b[0m \u001b[0mhandle\u001b[0m \u001b[0;32mis\u001b[0m \u001b[0mNone\u001b[0m\u001b[0;34m:\u001b[0m\u001b[0;34m\u001b[0m\u001b[0m\n\u001b[1;32m    964\u001b[0m       return self._do_call(_run_fn, self._session, feed_dict, fetch_list,\n\u001b[0;32m--> 965\u001b[0;31m                            target_list, options, run_metadata)\n\u001b[0m\u001b[1;32m    966\u001b[0m     \u001b[0;32melse\u001b[0m\u001b[0;34m:\u001b[0m\u001b[0;34m\u001b[0m\u001b[0m\n\u001b[1;32m    967\u001b[0m       return self._do_call(_prun_fn, self._session, handle, feed_dict,\n",
      "\u001b[0;32m/usr/local/lib/python2.7/dist-packages/tensorflow/python/client/session.pyc\u001b[0m in \u001b[0;36m_do_call\u001b[0;34m(self, fn, *args)\u001b[0m\n\u001b[1;32m    983\u001b[0m         \u001b[0;32mexcept\u001b[0m \u001b[0mKeyError\u001b[0m\u001b[0;34m:\u001b[0m\u001b[0;34m\u001b[0m\u001b[0m\n\u001b[1;32m    984\u001b[0m           \u001b[0;32mpass\u001b[0m\u001b[0;34m\u001b[0m\u001b[0m\n\u001b[0;32m--> 985\u001b[0;31m       \u001b[0;32mraise\u001b[0m \u001b[0mtype\u001b[0m\u001b[0;34m(\u001b[0m\u001b[0me\u001b[0m\u001b[0;34m)\u001b[0m\u001b[0;34m(\u001b[0m\u001b[0mnode_def\u001b[0m\u001b[0;34m,\u001b[0m \u001b[0mop\u001b[0m\u001b[0;34m,\u001b[0m \u001b[0mmessage\u001b[0m\u001b[0;34m)\u001b[0m\u001b[0;34m\u001b[0m\u001b[0m\n\u001b[0m\u001b[1;32m    986\u001b[0m \u001b[0;34m\u001b[0m\u001b[0m\n\u001b[1;32m    987\u001b[0m   \u001b[0;32mdef\u001b[0m \u001b[0m_extend_graph\u001b[0m\u001b[0;34m(\u001b[0m\u001b[0mself\u001b[0m\u001b[0;34m)\u001b[0m\u001b[0;34m:\u001b[0m\u001b[0;34m\u001b[0m\u001b[0m\n",
      "\u001b[0;31mInvalidArgumentError\u001b[0m: Input to reshape is a tensor with 8018737 values, but the requested shape requires a multiple of 12\n\t [[Node: linear/linear/reshape = Reshape[T=DT_FLOAT, Tshape=DT_INT32, _device=\"/job:localhost/replica:0/task:0/cpu:0\"](linear/linear/ToFloat, linear/linear/reshape/shape)]]\n\nCaused by op u'linear/linear/reshape', defined at:\n  File \"/usr/lib/python2.7/runpy.py\", line 162, in _run_module_as_main\n    \"__main__\", fname, loader, pkg_name)\n  File \"/usr/lib/python2.7/runpy.py\", line 72, in _run_code\n    exec code in run_globals\n  File \"/usr/local/lib/python2.7/dist-packages/ipykernel/__main__.py\", line 3, in <module>\n    app.launch_new_instance()\n  File \"/usr/local/lib/python2.7/dist-packages/traitlets/config/application.py\", line 658, in launch_instance\n    app.start()\n  File \"/usr/local/lib/python2.7/dist-packages/ipykernel/kernelapp.py\", line 474, in start\n    ioloop.IOLoop.instance().start()\n  File \"/usr/local/lib/python2.7/dist-packages/zmq/eventloop/ioloop.py\", line 177, in start\n    super(ZMQIOLoop, self).start()\n  File \"/usr/local/lib/python2.7/dist-packages/tornado/ioloop.py\", line 887, in start\n    handler_func(fd_obj, events)\n  File \"/usr/local/lib/python2.7/dist-packages/tornado/stack_context.py\", line 275, in null_wrapper\n    return fn(*args, **kwargs)\n  File \"/usr/local/lib/python2.7/dist-packages/zmq/eventloop/zmqstream.py\", line 440, in _handle_events\n    self._handle_recv()\n  File \"/usr/local/lib/python2.7/dist-packages/zmq/eventloop/zmqstream.py\", line 472, in _handle_recv\n    self._run_callback(callback, msg)\n  File \"/usr/local/lib/python2.7/dist-packages/zmq/eventloop/zmqstream.py\", line 414, in _run_callback\n    callback(*args, **kwargs)\n  File \"/usr/local/lib/python2.7/dist-packages/tornado/stack_context.py\", line 275, in null_wrapper\n    return fn(*args, **kwargs)\n  File \"/usr/local/lib/python2.7/dist-packages/ipykernel/kernelbase.py\", line 276, in dispatcher\n    return self.dispatch_shell(stream, msg)\n  File \"/usr/local/lib/python2.7/dist-packages/ipykernel/kernelbase.py\", line 228, in dispatch_shell\n    handler(stream, idents, msg)\n  File \"/usr/local/lib/python2.7/dist-packages/ipykernel/kernelbase.py\", line 390, in execute_request\n    user_expressions, allow_stdin)\n  File \"/usr/local/lib/python2.7/dist-packages/ipykernel/ipkernel.py\", line 196, in do_execute\n    res = shell.run_cell(code, store_history=store_history, silent=silent)\n  File \"/usr/local/lib/python2.7/dist-packages/ipykernel/zmqshell.py\", line 498, in run_cell\n    return super(ZMQInteractiveShell, self).run_cell(*args, **kwargs)\n  File \"/usr/local/lib/python2.7/dist-packages/IPython/core/interactiveshell.py\", line 2717, in run_cell\n    interactivity=interactivity, compiler=compiler, result=result)\n  File \"/usr/local/lib/python2.7/dist-packages/IPython/core/interactiveshell.py\", line 2821, in run_ast_nodes\n    if self.run_code(code, result):\n  File \"/usr/local/lib/python2.7/dist-packages/IPython/core/interactiveshell.py\", line 2881, in run_code\n    exec(code_obj, self.user_global_ns, self.user_ns)\n  File \"<ipython-input-13-5722d2643b9a>\", line 2, in <module>\n    y_submission = clf.predict_proba(X_submission.astype(np.float32))\n  File \"/usr/local/lib/python2.7/dist-packages/tensorflow/contrib/learn/python/learn/estimators/linear.py\", line 545, in predict_proba\n    as_iterable=as_iterable)\n  File \"/usr/local/lib/python2.7/dist-packages/tensorflow/contrib/framework/python/framework/deprecation.py\", line 272, in new_func\n    return func(*args, **kwargs)\n  File \"/usr/local/lib/python2.7/dist-packages/tensorflow/contrib/learn/python/learn/estimators/estimator.py\", line 439, in predict\n    as_iterable=as_iterable)\n  File \"/usr/local/lib/python2.7/dist-packages/tensorflow/contrib/learn/python/learn/estimators/estimator.py\", line 793, in _infer_model\n    predictions = self._get_predict_ops(features)\n  File \"/usr/local/lib/python2.7/dist-packages/tensorflow/contrib/learn/python/learn/estimators/estimator.py\", line 1011, in _get_predict_ops\n    predictions, _, _ = self._call_model_fn(features, targets, ModeKeys.INFER)\n  File \"/usr/local/lib/python2.7/dist-packages/tensorflow/contrib/learn/python/learn/estimators/estimator.py\", line 944, in _call_model_fn\n    return self._model_fn(features, targets, mode=mode, params=self.params)\n  File \"/usr/local/lib/python2.7/dist-packages/tensorflow/contrib/learn/python/learn/estimators/linear.py\", line 213, in _linear_classifier_model_fn\n    scope=scope))\n  File \"/usr/local/lib/python2.7/dist-packages/tensorflow/contrib/layers/python/layers/feature_column_ops.py\", line 358, in weighted_sum_from_feature_columns\n    transformed_tensor = transformer.transform(column)\n  File \"/usr/local/lib/python2.7/dist-packages/tensorflow/contrib/layers/python/layers/feature_column_ops.py\", line 583, in transform\n    feature_column.insert_transformed_feature(self._columns_to_tensors)\n  File \"/usr/local/lib/python2.7/dist-packages/tensorflow/contrib/layers/python/layers/feature_column.py\", line 1226, in insert_transformed_feature\n    math_ops.to_float(input_tensor), flattened_shape, name=\"reshape\")\n  File \"/usr/local/lib/python2.7/dist-packages/tensorflow/python/ops/gen_array_ops.py\", line 1977, in reshape\n    name=name)\n  File \"/usr/local/lib/python2.7/dist-packages/tensorflow/python/framework/op_def_library.py\", line 749, in apply_op\n    op_def=op_def)\n  File \"/usr/local/lib/python2.7/dist-packages/tensorflow/python/framework/ops.py\", line 2380, in create_op\n    original_op=self._default_original_op, op_def=op_def)\n  File \"/usr/local/lib/python2.7/dist-packages/tensorflow/python/framework/ops.py\", line 1298, in __init__\n    self._traceback = _extract_stack()\n\nInvalidArgumentError (see above for traceback): Input to reshape is a tensor with 8018737 values, but the requested shape requires a multiple of 12\n\t [[Node: linear/linear/reshape = Reshape[T=DT_FLOAT, Tshape=DT_INT32, _device=\"/job:localhost/replica:0/task:0/cpu:0\"](linear/linear/ToFloat, linear/linear/reshape/shape)]]\n"
     ]
    }
   ],
   "source": [
    "X_submission = test_features.ix[:,2:]\n",
    "y_submission = clf.predict_proba(X_submission.astype(np.float32))"
   ]
  },
  {
   "cell_type": "code",
   "execution_count": 15,
   "metadata": {
    "collapsed": false
   },
   "outputs": [
    {
     "data": {
      "text/html": [
       "<div>\n",
       "<table border=\"1\" class=\"dataframe\">\n",
       "  <thead>\n",
       "    <tr style=\"text-align: right;\">\n",
       "      <th></th>\n",
       "      <th>NumberRealEstateLoansOrLines</th>\n",
       "      <th>UnknownNumberOfDependents</th>\n",
       "      <th>NoDependents</th>\n",
       "      <th>UnknownMonthlyIncome</th>\n",
       "      <th>NoIncome</th>\n",
       "      <th>ZeroDebtRatio</th>\n",
       "      <th>UnknownIncomeDebtRatio</th>\n",
       "      <th>WeirdRevolvingUtilization</th>\n",
       "      <th>ZeroRevolvingUtilization</th>\n",
       "      <th>LogDebt</th>\n",
       "      <th>...</th>\n",
       "      <th>LogDebtPerDelinquency</th>\n",
       "      <th>LogDebtPer90DaysLate</th>\n",
       "      <th>LogUnknownIncomeDebtRatio</th>\n",
       "      <th>LogUnknownIncomeDebtRatioPerPerson</th>\n",
       "      <th>LogUnknownIncomeDebtRatioPerLine</th>\n",
       "      <th>LogUnknownIncomeDebtRatioPerRealEstateLine</th>\n",
       "      <th>LogUnknownIncomeDebtRatioPerDelinquency</th>\n",
       "      <th>LogUnknownIncomeDebtRatioPer90DaysLate</th>\n",
       "      <th>LowAge</th>\n",
       "      <th>LogAge</th>\n",
       "    </tr>\n",
       "  </thead>\n",
       "  <tbody>\n",
       "    <tr>\n",
       "      <th>0</th>\n",
       "      <td>0.0</td>\n",
       "      <td>0.0</td>\n",
       "      <td>1.0</td>\n",
       "      <td>0.0</td>\n",
       "      <td>0.0</td>\n",
       "      <td>0.0</td>\n",
       "      <td>0.0</td>\n",
       "      <td>0.0</td>\n",
       "      <td>0.0</td>\n",
       "      <td>6.919508</td>\n",
       "      <td>...</td>\n",
       "      <td>6.919508</td>\n",
       "      <td>6.919508</td>\n",
       "      <td>0.0</td>\n",
       "      <td>0.000000</td>\n",
       "      <td>-1.609438</td>\n",
       "      <td>0.000000</td>\n",
       "      <td>0.000000</td>\n",
       "      <td>0.0</td>\n",
       "      <td>0.0</td>\n",
       "      <td>3.258096</td>\n",
       "    </tr>\n",
       "    <tr>\n",
       "      <th>1</th>\n",
       "      <td>4.0</td>\n",
       "      <td>0.0</td>\n",
       "      <td>0.0</td>\n",
       "      <td>0.0</td>\n",
       "      <td>0.0</td>\n",
       "      <td>0.0</td>\n",
       "      <td>0.0</td>\n",
       "      <td>0.0</td>\n",
       "      <td>0.0</td>\n",
       "      <td>8.480420</td>\n",
       "      <td>...</td>\n",
       "      <td>8.480420</td>\n",
       "      <td>8.480420</td>\n",
       "      <td>0.0</td>\n",
       "      <td>-1.098612</td>\n",
       "      <td>-2.772589</td>\n",
       "      <td>-1.609438</td>\n",
       "      <td>0.000000</td>\n",
       "      <td>0.0</td>\n",
       "      <td>0.0</td>\n",
       "      <td>3.688879</td>\n",
       "    </tr>\n",
       "    <tr>\n",
       "      <th>2</th>\n",
       "      <td>1.0</td>\n",
       "      <td>0.0</td>\n",
       "      <td>0.0</td>\n",
       "      <td>0.0</td>\n",
       "      <td>0.0</td>\n",
       "      <td>0.0</td>\n",
       "      <td>0.0</td>\n",
       "      <td>0.0</td>\n",
       "      <td>0.0</td>\n",
       "      <td>8.159178</td>\n",
       "      <td>...</td>\n",
       "      <td>8.159178</td>\n",
       "      <td>8.159178</td>\n",
       "      <td>0.0</td>\n",
       "      <td>-1.098612</td>\n",
       "      <td>-2.564949</td>\n",
       "      <td>-0.693147</td>\n",
       "      <td>0.000000</td>\n",
       "      <td>0.0</td>\n",
       "      <td>0.0</td>\n",
       "      <td>3.737670</td>\n",
       "    </tr>\n",
       "    <tr>\n",
       "      <th>3</th>\n",
       "      <td>2.0</td>\n",
       "      <td>0.0</td>\n",
       "      <td>1.0</td>\n",
       "      <td>0.0</td>\n",
       "      <td>0.0</td>\n",
       "      <td>0.0</td>\n",
       "      <td>0.0</td>\n",
       "      <td>0.0</td>\n",
       "      <td>0.0</td>\n",
       "      <td>7.993982</td>\n",
       "      <td>...</td>\n",
       "      <td>7.300835</td>\n",
       "      <td>7.993982</td>\n",
       "      <td>0.0</td>\n",
       "      <td>0.000000</td>\n",
       "      <td>-2.079442</td>\n",
       "      <td>-1.098612</td>\n",
       "      <td>-0.693147</td>\n",
       "      <td>0.0</td>\n",
       "      <td>0.0</td>\n",
       "      <td>3.044523</td>\n",
       "    </tr>\n",
       "    <tr>\n",
       "      <th>4</th>\n",
       "      <td>0.0</td>\n",
       "      <td>0.0</td>\n",
       "      <td>0.0</td>\n",
       "      <td>0.0</td>\n",
       "      <td>0.0</td>\n",
       "      <td>0.0</td>\n",
       "      <td>0.0</td>\n",
       "      <td>0.0</td>\n",
       "      <td>0.0</td>\n",
       "      <td>4.343547</td>\n",
       "      <td>...</td>\n",
       "      <td>4.343547</td>\n",
       "      <td>4.343547</td>\n",
       "      <td>0.0</td>\n",
       "      <td>-0.693147</td>\n",
       "      <td>-1.609438</td>\n",
       "      <td>0.000000</td>\n",
       "      <td>0.000000</td>\n",
       "      <td>0.0</td>\n",
       "      <td>0.0</td>\n",
       "      <td>2.302585</td>\n",
       "    </tr>\n",
       "  </tbody>\n",
       "</table>\n",
       "<p>5 rows × 79 columns</p>\n",
       "</div>"
      ],
      "text/plain": [
       "   NumberRealEstateLoansOrLines  UnknownNumberOfDependents  NoDependents  \\\n",
       "0                           0.0                        0.0           1.0   \n",
       "1                           4.0                        0.0           0.0   \n",
       "2                           1.0                        0.0           0.0   \n",
       "3                           2.0                        0.0           1.0   \n",
       "4                           0.0                        0.0           0.0   \n",
       "\n",
       "   UnknownMonthlyIncome  NoIncome  ZeroDebtRatio  UnknownIncomeDebtRatio  \\\n",
       "0                   0.0       0.0            0.0                     0.0   \n",
       "1                   0.0       0.0            0.0                     0.0   \n",
       "2                   0.0       0.0            0.0                     0.0   \n",
       "3                   0.0       0.0            0.0                     0.0   \n",
       "4                   0.0       0.0            0.0                     0.0   \n",
       "\n",
       "   WeirdRevolvingUtilization  ZeroRevolvingUtilization   LogDebt    ...     \\\n",
       "0                        0.0                       0.0  6.919508    ...      \n",
       "1                        0.0                       0.0  8.480420    ...      \n",
       "2                        0.0                       0.0  8.159178    ...      \n",
       "3                        0.0                       0.0  7.993982    ...      \n",
       "4                        0.0                       0.0  4.343547    ...      \n",
       "\n",
       "   LogDebtPerDelinquency  LogDebtPer90DaysLate  LogUnknownIncomeDebtRatio  \\\n",
       "0               6.919508              6.919508                        0.0   \n",
       "1               8.480420              8.480420                        0.0   \n",
       "2               8.159178              8.159178                        0.0   \n",
       "3               7.300835              7.993982                        0.0   \n",
       "4               4.343547              4.343547                        0.0   \n",
       "\n",
       "   LogUnknownIncomeDebtRatioPerPerson  LogUnknownIncomeDebtRatioPerLine  \\\n",
       "0                            0.000000                         -1.609438   \n",
       "1                           -1.098612                         -2.772589   \n",
       "2                           -1.098612                         -2.564949   \n",
       "3                            0.000000                         -2.079442   \n",
       "4                           -0.693147                         -1.609438   \n",
       "\n",
       "   LogUnknownIncomeDebtRatioPerRealEstateLine  \\\n",
       "0                                    0.000000   \n",
       "1                                   -1.609438   \n",
       "2                                   -0.693147   \n",
       "3                                   -1.098612   \n",
       "4                                    0.000000   \n",
       "\n",
       "   LogUnknownIncomeDebtRatioPerDelinquency  \\\n",
       "0                                 0.000000   \n",
       "1                                 0.000000   \n",
       "2                                 0.000000   \n",
       "3                                -0.693147   \n",
       "4                                 0.000000   \n",
       "\n",
       "   LogUnknownIncomeDebtRatioPer90DaysLate  LowAge    LogAge  \n",
       "0                                     0.0     0.0  3.258096  \n",
       "1                                     0.0     0.0  3.688879  \n",
       "2                                     0.0     0.0  3.737670  \n",
       "3                                     0.0     0.0  3.044523  \n",
       "4                                     0.0     0.0  2.302585  \n",
       "\n",
       "[5 rows x 79 columns]"
      ]
     },
     "execution_count": 15,
     "metadata": {},
     "output_type": "execute_result"
    }
   ],
   "source": [
    "X_submission.head()"
   ]
  },
  {
   "cell_type": "code",
   "execution_count": 116,
   "metadata": {
    "collapsed": false
   },
   "outputs": [
    {
     "data": {
      "text/html": [
       "<div>\n",
       "<table border=\"1\" class=\"dataframe\">\n",
       "  <thead>\n",
       "    <tr style=\"text-align: right;\">\n",
       "      <th></th>\n",
       "      <th>Id</th>\n",
       "      <th>Probability</th>\n",
       "    </tr>\n",
       "  </thead>\n",
       "  <tbody>\n",
       "    <tr>\n",
       "      <th>0</th>\n",
       "      <td>1</td>\n",
       "      <td>0.055928</td>\n",
       "    </tr>\n",
       "    <tr>\n",
       "      <th>1</th>\n",
       "      <td>2</td>\n",
       "      <td>0.043133</td>\n",
       "    </tr>\n",
       "    <tr>\n",
       "      <th>2</th>\n",
       "      <td>3</td>\n",
       "      <td>0.013760</td>\n",
       "    </tr>\n",
       "    <tr>\n",
       "      <th>3</th>\n",
       "      <td>4</td>\n",
       "      <td>0.066048</td>\n",
       "    </tr>\n",
       "    <tr>\n",
       "      <th>4</th>\n",
       "      <td>5</td>\n",
       "      <td>0.071679</td>\n",
       "    </tr>\n",
       "  </tbody>\n",
       "</table>\n",
       "</div>"
      ],
      "text/plain": [
       "   Id  Probability\n",
       "0   1     0.055928\n",
       "1   2     0.043133\n",
       "2   3     0.013760\n",
       "3   4     0.066048\n",
       "4   5     0.071679"
      ]
     },
     "execution_count": 116,
     "metadata": {},
     "output_type": "execute_result"
    }
   ],
   "source": [
    "submission = pd.DataFrame()\n",
    "submission['Id'] = test_features.ID.astype(np.int)\n",
    "submission['Probability'] = y_submission[:,1]\n",
    "submission.head()"
   ]
  },
  {
   "cell_type": "code",
   "execution_count": 117,
   "metadata": {
    "collapsed": false
   },
   "outputs": [
    {
     "name": "stdout",
     "output_type": "stream",
     "text": [
      "submissions/submission-stack_gb-2017-01-08-17-01-50.csv\n"
     ]
    }
   ],
   "source": [
    "flename = 'submissions/submission-%s-%s.csv' % (model_name, timestamp)\n",
    "submission.to_csv(flename, index=False)\n",
    "print flename"
   ]
  }
 ],
 "metadata": {
  "kernelspec": {
   "display_name": "Python 2",
   "language": "python",
   "name": "python2"
  },
  "language_info": {
   "codemirror_mode": {
    "name": "ipython",
    "version": 2
   },
   "file_extension": ".py",
   "mimetype": "text/x-python",
   "name": "python",
   "nbconvert_exporter": "python",
   "pygments_lexer": "ipython2",
   "version": "2.7.9"
  }
 },
 "nbformat": 4,
 "nbformat_minor": 1
}
